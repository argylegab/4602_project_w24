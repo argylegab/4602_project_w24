{
 "cells": [
  {
   "cell_type": "code",
   "execution_count": 3,
   "id": "d629813d-ef45-4340-b10d-6e4f858f411d",
   "metadata": {},
   "outputs": [
    {
     "name": "stdout",
     "output_type": "stream",
     "text": [
      "number of records in dataset: (3510, 725)\n"
     ]
    }
   ],
   "source": [
    "import pandas as pd\n",
    "import numpy as np\n",
    "import matplotlib.pyplot as plt\n",
    "%matplotlib inline\n",
    "\n",
    "# import dataset, change string to numeric values\n",
    "# this will set blank values to NaN\n",
    "file_path = 'hcmst2017to2022.csv'\n",
    "df = pd.read_csv(file_path)\n",
    "for column in df.columns:\n",
    "    df[column] = pd.to_numeric(df[column], errors='coerce')\n",
    "\n",
    "# how to specify columns you want to print\n",
    "columns_to_print_section = ['caseid_new', 'w1_section', 'w2_section', 'w3_section']\n",
    "# this is how you look at the possible values for each column\n",
    "#print(df['w1_section'].unique())  # possible values for relationship status in wave 1\n",
    "\n",
    "print(\"number of records in dataset: \" + str(df.shape))"
   ]
  },
  {
   "cell_type": "markdown",
   "id": "3a46bd51-a012-4550-bd90-a32950f0e16d",
   "metadata": {},
   "source": [
    "naming key:\n",
    "x_con = single condition\n",
    "x_comb_con = combined condition\n",
    "x_df = x dataframe"
   ]
  },
  {
   "cell_type": "code",
   "execution_count": 4,
   "id": "d2f09178-f8e8-4312-94a7-e387f6beb7c8",
   "metadata": {},
   "outputs": [
    {
     "name": "stdout",
     "output_type": "stream",
     "text": [
      "Unpartnered Through W3:\n",
      "(238, 725)\n",
      "Not Unpartnered: (3272, 725)\n",
      "Number of People with Same Partner -> w3: (1096, 725)\n"
     ]
    }
   ],
   "source": [
    "# remove those unpartnered w1->w3\n",
    "unpartnered_in_w1_pp_con = df['w1_section'] == 2 # adults with past partners\n",
    "unpartnered_in_w1_np_con = df['w1_section'] == 3 # never partnered\n",
    "unpartneredcontinues_in_w2_con = df['w2_section'] == 6 # continues to be unpartnered\n",
    "unpartneredcontinues_in_w3_con = df['w3_section'] == 6\n",
    "unpartnered_w1throughW3_comb_con = (unpartnered_in_w1_pp_con | unpartnered_in_w1_np_con) & unpartneredcontinues_in_w2_con & unpartneredcontinues_in_w3_con\n",
    "unpartnered_w1throughW3_df = df.loc[unpartnered_w1throughW3_comb_con]\n",
    "print(\"Unpartnered Through W3:\")\n",
    "print(unpartnered_w1throughW3_df.shape)\n",
    "\n",
    "# all the people that were in a relationship\n",
    "not_unpartnered_con = ~(df[\"caseid_new\"].isin(unpartnered_w1throughW3_df[\"caseid_new\"].values))\n",
    "not_unpartnered_df = df.loc[not_unpartnered_con]\n",
    "print(\"Not Unpartnered: \" + str(not_unpartnered_df.shape))\n",
    "\n",
    "partnered_w1_con = df['w1_section'] == 1 # those who were partenered in 2017\n",
    "same_married_w2_con = df['w2_section'] == 1 # who are still married to the same partner in wave 2\n",
    "same_partner_w2_con = df['w2_section'] == 3 # or still partnered with that same partner but not married (but still together) in wave 2 \n",
    "# (note that we are not looking at those with new partners in w2/w3)\n",
    "same_married_w3_con = df['w3_section'] == 1 # who are still married to the same partner in wave 3\n",
    "same_partner_w3_con = df['w3_section'] == 3 # or still partnered with that same partner but not married (but still together) in wave 2 \n",
    "same_partner_from_w3_con = df['w3_partner_source'] == 1\n",
    "\n",
    "same_partner_all_waves_comb_con = partnered_w1_con & (same_married_w2_con | same_partner_w2_con) & (same_married_w3_con | same_partner_w3_con) & same_partner_from_w3_con\n",
    "same_partner_all_waves_df = df.loc[same_partner_all_waves_comb_con]\n",
    "print(\"Number of People with Same Partner -> w3: \" + str(same_partner_all_waves_df.shape))\n",
    "\n",
    "same_partner_all_waves_con = df[\"caseid_new\"].isin(same_partner_all_waves_df[\"caseid_new\"].values)\n",
    "\n",
    "#print(df.loc[same_partner_all_waves_con])\n",
    "\n"
   ]
  },
  {
   "cell_type": "markdown",
   "id": "688a70be-5959-44af-a521-ed6b5a1e7ba4",
   "metadata": {},
   "source": [
    "Show homophily in these 1096 \"strong couples\"."
   ]
  },
  {
   "cell_type": "code",
   "execution_count": 5,
   "id": "8ad0ba6f-3ae6-4f26-a188-df7b072eff3e",
   "metadata": {},
   "outputs": [],
   "source": [
    "# find all the people "
   ]
  },
  {
   "cell_type": "code",
   "execution_count": 7,
   "id": "7a2e10ad-a8b6-4238-86c4-510165731016",
   "metadata": {},
   "outputs": [
    {
     "name": "stdout",
     "output_type": "stream",
     "text": [
      "1096\n",
      "2192\n"
     ]
    }
   ],
   "source": [
    "# make nodes for each\n",
    "same_partner_all_waves_dict = same_partner_all_waves_df.to_dict(orient='records')\n",
    "same_partner_all_waves_resp_dict = {}\n",
    "\n",
    "rec_counter = 0\n",
    "\n",
    "# 1096 couples\n",
    "for record in same_partner_all_waves_dict:\n",
    "    same_partner_all_waves_resp_dict[record[\"caseid_new\"]] = {\n",
    "        \"r_gender\": record[\"w1_ppgender\"], # resp gender\n",
    "        \"p_gender\": record[\"w1_q4\"], # partner's gender\n",
    "        \n",
    "        \"r_race\": record[\"w1_ppethm\"], # resp race\n",
    "        \"p_race\": record[\"w1_q6b\"], #partner's race\n",
    "        \n",
    "        \"r_age\": record[\"w1_ppage\"], # resp age\n",
    "        \"p_age\": record[\"w1_q9\"], #partner age in 2017,\n",
    "        \n",
    "        \"r_edu\": record[\"w1_ppeduc\"], # resp education\n",
    "        \"p_edu\": record[\"w1_q10\"], # partner education\n",
    "        \n",
    "        \"r_politic\": record[\"w1_partyid7\"], # resp political affiliation\n",
    "        \"p_politic\": record[\"w1_q12\"] # partner political affiliation\n",
    "        \n",
    "    }\n",
    "    rec_counter +=2\n",
    "\n",
    "print(len(same_partner_all_waves_resp_dict))\n",
    "\n",
    "print(rec_counter)"
   ]
  },
  {
   "cell_type": "code",
   "execution_count": 9,
   "id": "f87deb09-f448-4b53-86ed-9778de338c9a",
   "metadata": {},
   "outputs": [
    {
     "name": "stdout",
     "output_type": "stream",
     "text": [
      "Warning: When  cdn_resources is 'local' jupyter notebook has issues displaying graphics on chrome/safari. Use cdn_resources='in_line' or cdn_resources='remote' if you have issues viewing graphics in a notebook.\n",
      "example.html\n"
     ]
    },
    {
     "data": {
      "text/html": [
       "\n",
       "        <iframe\n",
       "            width=\"100%\"\n",
       "            height=\"600px\"\n",
       "            src=\"example.html\"\n",
       "            frameborder=\"0\"\n",
       "            allowfullscreen\n",
       "            \n",
       "        ></iframe>\n",
       "        "
      ],
      "text/plain": [
       "<IPython.lib.display.IFrame at 0x12036c9d0>"
      ]
     },
     "execution_count": 9,
     "metadata": {},
     "output_type": "execute_result"
    }
   ],
   "source": [
    "from pyvis import network as net\n",
    "import networkx as nx\n",
    "\n",
    "g=net.Network(notebook=True)\n",
    "nxg = nx.complete_graph(5)\n",
    "g.from_nx(nxg)\n",
    "g.show(\"example.html\")"
   ]
  },
  {
   "cell_type": "code",
   "execution_count": null,
   "id": "f3f644bd-9321-4687-b55c-217c50b113aa",
   "metadata": {},
   "outputs": [],
   "source": [
    "indiv_persons_dict = {}\n",
    "\n",
    "rec_counter = 0\n",
    "# need to plot original graph\n",
    "\n",
    "for record in same_partner_all_waves_resp_dict:\n",
    "    indiv_persons_dict[rec_counter] = {\n",
    "        \"\n",
    "    }"
   ]
  }
 ],
 "metadata": {
  "kernelspec": {
   "display_name": "Python 3 (ipykernel)",
   "language": "python",
   "name": "python3"
  },
  "language_info": {
   "codemirror_mode": {
    "name": "ipython",
    "version": 3
   },
   "file_extension": ".py",
   "mimetype": "text/x-python",
   "name": "python",
   "nbconvert_exporter": "python",
   "pygments_lexer": "ipython3",
   "version": "3.11.5"
  }
 },
 "nbformat": 4,
 "nbformat_minor": 5
}
