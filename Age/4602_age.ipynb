{
 "cells": [
  {
   "cell_type": "code",
   "execution_count": 6,
   "id": "b65c083e-b888-445b-abe9-c596a8ac21a0",
   "metadata": {},
   "outputs": [],
   "source": [
    "import pandas as pd\n",
    "\n",
    "file=\"datingdataset.csv\"\n",
    "\n",
    "df= pd.read_csv(file, low_memory= False)\n",
    "\n",
    "for column in df.columns:\n",
    "    df[column] = pd.to_numeric(df[column], errors='coerce')\n",
    "\n"
   ]
  },
  {
   "cell_type": "code",
   "execution_count": 7,
   "id": "508a96a4-283d-4331-9167-82baf77daa70",
   "metadata": {},
   "outputs": [
    {
     "name": "stdout",
     "output_type": "stream",
     "text": [
      "      caseid_new  w3_ppage  w1_q9\n",
      "1          71609      72.0   71.0\n",
      "2         106983      43.0   49.0\n",
      "5         164061      64.0   52.0\n",
      "7         212249      60.0   55.0\n",
      "8         214227      78.0   79.0\n",
      "...          ...       ...    ...\n",
      "3438     2958163      54.0   49.0\n",
      "3448     2959699      70.0   52.0\n",
      "3459     2961175      54.0   58.0\n",
      "3460     2961203      72.0   65.0\n",
      "3486     2964987      29.0   28.0\n",
      "\n",
      "[1096 rows x 3 columns]\n",
      "Number of married/partnered adults: 1096\n"
     ]
    }
   ],
   "source": [
    "married_adults1 = df['w1_partnership_status']==1\n",
    "partnered_adults1 = df['w1_partnership_status']==2\n",
    "\n",
    "married_adults_samep2 = df['w2_section']==1\n",
    "partnered_adults_samep2 = df['w2_section']==3\n",
    "\n",
    "married_adults_samep3 = df['w3_section']==1\n",
    "partnered_adults_samep3 = df['w3_section']==3\n",
    "\n",
    "caseids = ['caseid_new', 'w3_ppage','w1_q9']\n",
    "\n",
    "cond = (married_adults1 | partnered_adults1) & (married_adults_samep2 | partnered_adults_samep2) & (married_adults_samep3 | partnered_adults_samep3)\n",
    "\n",
    "records = df.loc[cond,caseids]\n",
    "print(records)\n",
    "\n",
    "print(\"Number of married/partnered adults:\",len(records))\n"
   ]
  },
  {
   "cell_type": "code",
   "execution_count": 8,
   "id": "dee1ec51",
   "metadata": {},
   "outputs": [
    {
     "name": "stdout",
     "output_type": "stream",
     "text": [
      "Total number of couples that stayed together through all waves: 1096\n",
      "Number of couples that stayed together through all waves between 18-29 years old: 22\n",
      "Average age difference (in years) for couples that stayed together all waves between 18-29 years old: 4.0\n",
      "Number of couples that stayed together through all waves between 30-39 years old: 134\n",
      "Average age difference (in years) for couples that stayed together all waves between 30-39 years old: 2.7\n",
      "Number of couples that stayed together through all waves between 40-49 years old: 171\n",
      "Average age difference (in years) for couples that stayed together all waves between 40-49 years old: 4.7\n",
      "Number of couples that stayed together through all waves between 50-59 years old: 224\n",
      "Average age difference (in years) for couples that stayed together all waves between 50-59 years old: 4.6\n",
      "Number of couples that stayed together through all waves between 60-69 years old: 308\n",
      "Average age difference (in years) for couples that stayed together all waves between 60-69 years old: 4.0\n",
      "Number of couples that stayed together through all waves between 70-79 years old: 185\n",
      "Average age difference (in years) for couples that stayed together all waves between 70-79 years old: 4.2\n",
      "Number of couples that stayed together through all waves between 80-100 years old: 52\n",
      "Average age difference (in years) for couples that stayed together all waves between 80-100 years old: 4.7\n"
     ]
    }
   ],
   "source": [
    "stayed_together_df = df[cond]\n",
    "\n",
    "def count_couples_by_age_range(age_start, age_end):\n",
    "    # Apply age filter\n",
    "    age_filtered_df = stayed_together_df[(stayed_together_df['w3_ppage'] >= age_start) & (stayed_together_df['w3_ppage'] <= age_end)]\n",
    "    return len(age_filtered_df)\n",
    "\n",
    "def calculate_average_age_difference(age_start, age_end):\n",
    "    age_filtered_df = stayed_together_df[(stayed_together_df['w3_ppage'] >= age_start) & (stayed_together_df['w3_ppage'] <= age_end)].copy()\n",
    "\n",
    "    # Calculate partner's estimated age in wave 3 and the absolute age difference to avoid negative numbers\n",
    "    partner_age_w3 = age_filtered_df['w1_q9'] + 5\n",
    "    age_difference = abs(age_filtered_df['w3_ppage'] - partner_age_w3)\n",
    "    calculated_columns = pd.concat([partner_age_w3.rename('partner_age_w3'), age_difference.rename('age_difference')], axis=1)\n",
    "    age_filtered_df = pd.concat([age_filtered_df, calculated_columns], axis=1)\n",
    "\n",
    "    # Now calculate the average age difference\n",
    "    average_age_difference = round(age_filtered_df['age_difference'].mean(), 1) if not age_filtered_df.empty else None\n",
    "\n",
    "    return average_age_difference\n",
    "\n",
    "# Print total count\n",
    "print(f\"Total number of couples that stayed together through all waves: {len(stayed_together_df)}\")\n",
    "\n",
    "# Calculate and print the number of couples and average age difference for each age range\n",
    "age_ranges = [(18, 29), (30, 39), (40, 49), (50, 59), (60, 69), (70, 79), (80, 100)]\n",
    "for age_start, age_end in age_ranges:\n",
    "    count_age_filtered = count_couples_by_age_range(age_start, age_end)\n",
    "    print(f'Number of couples that stayed together through all waves between {age_start}-{age_end} years old: {count_age_filtered}')\n",
    "\n",
    "    average_age_difference = calculate_average_age_difference(age_start, age_end)\n",
    "    if average_age_difference is not None:\n",
    "        print(f'Average age difference (in years) for couples that stayed together all waves between {age_start}-{age_end} years old: {average_age_difference}')\n",
    "    else:\n",
    "        print(f'Not enough data to calculate average age difference for age range {age_start}-{age_end}')\n"
   ]
  },
  {
   "cell_type": "code",
   "execution_count": 9,
   "id": "2827e93b",
   "metadata": {},
   "outputs": [
    {
     "name": "stdout",
     "output_type": "stream",
     "text": [
      "      caseid_new  w3_ppage  partner_age_w3  age_difference\n",
      "1          71609      72.0            76.0             4.0\n",
      "2         106983      43.0            54.0            11.0\n",
      "5         164061      64.0            57.0             7.0\n",
      "7         212249      60.0            60.0             0.0\n",
      "8         214227      78.0            84.0             6.0\n",
      "...          ...       ...             ...             ...\n",
      "3438     2958163      54.0            54.0             0.0\n",
      "3448     2959699      70.0            57.0            13.0\n",
      "3459     2961175      54.0            63.0             9.0\n",
      "3460     2961203      72.0            70.0             2.0\n",
      "3486     2964987      29.0            33.0             4.0\n",
      "\n",
      "[1096 rows x 4 columns]\n"
     ]
    }
   ],
   "source": [
    "partner_age_w3 = df['w1_q9'] + 5\n",
    "age_difference = abs(df['w3_ppage'] - partner_age_w3)\n",
    "\n",
    "df = pd.concat([df, partner_age_w3.rename('partner_age_w3'), age_difference.rename('age_difference')], axis=1)\n",
    "\n",
    "caseids = ['caseid_new', 'w3_ppage', 'partner_age_w3', 'age_difference']\n",
    "\n",
    "records = df.loc[cond, caseids]\n",
    "print(records)"
   ]
  }
 ],
 "metadata": {
  "kernelspec": {
   "display_name": "Python 3 (ipykernel)",
   "language": "python",
   "name": "python3"
  },
  "language_info": {
   "codemirror_mode": {
    "name": "ipython",
    "version": 3
   },
   "file_extension": ".py",
   "mimetype": "text/x-python",
   "name": "python",
   "nbconvert_exporter": "python",
   "pygments_lexer": "ipython3",
   "version": "3.12.1"
  }
 },
 "nbformat": 4,
 "nbformat_minor": 5
}
