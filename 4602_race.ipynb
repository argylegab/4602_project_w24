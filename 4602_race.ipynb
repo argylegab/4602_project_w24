{
 "cells": [
  {
   "cell_type": "code",
   "execution_count": 32,
   "id": "e8feb125-c910-453c-93cb-cf3b071d3e26",
   "metadata": {},
   "outputs": [],
   "source": [
    "#printing out the person and their partner's racial bg\n",
    "\n",
    "import pandas as pd\n",
    "import matplotlib.pyplot as plt\n",
    "\n",
    "file=\"datingdataset.csv\"\n",
    "\n",
    "df= pd.read_csv(file)\n",
    "\n",
    "for column in df.columns:\n",
    "    df[column] = pd.to_numeric(df[column], errors='coerce')\n",
    "\n",
    "columns_to_print= ['caseid_new','w1_ppethm' ,'w1_q6b', 'w2_ppethm', 'w2_Q6B']\n",
    "\n",
    "cond = df['w1_q6b']==5\n",
    "\n",
    "filter_columns = df.loc[cond, columns_to_print]\n",
    "#print(filter_columns)\n",
    "cols = df[['caseid_new','w1_ppethm' ,'w1_q6b']]\n",
    "#cols.to_csv('race.csv')\n"
   ]
  },
  {
   "cell_type": "markdown",
   "id": "de5d0089-7022-4962-b7de-5066025bab80",
   "metadata": {},
   "source": [
    "\n",
    "# hypothesis: White people are less open to other racial groups \n",
    "#result: \n",
    "#WAVE 1\n",
    "\n",
    "filter_by_white_resp = df['w1_ppethm']==1\n",
    "filter_by_partners_black = df[''] \n",
    "\n",
    "cond = filter_by_white_resp & filter_by_partners_other_ethnicities\n",
    "\n",
    "print(\"Number of white respondents:\")\n",
    "#filter_columns = df.loc[cond,cols]\n",
    "#print(\"Number of white people who date other ethinicities\"+str(filter_columns))\n",
    "#print(filter_columns)"
   ]
  },
  {
   "cell_type": "code",
   "execution_count": 142,
   "id": "aa097877-f83b-4b22-9e67-dd5cc486bc6b",
   "metadata": {},
   "outputs": [
    {
     "name": "stdout",
     "output_type": "stream",
     "text": [
      "Number of white respondents: 3510\n",
      "Number of white people who are married/partnered who date other white people, wave1: 1067\n"
     ]
    }
   ],
   "source": [
    "# hypothesis: White people are less open to other racial groups \n",
    "#result: true. 2219 white partners\n",
    "#WAVE 1\n",
    "\n",
    "married_adults_samep = df['w2_section']==1\n",
    "partnered_adults_samep = df['w2_section']==3\n",
    "\n",
    "filter_by_white_resp = df['w1_ppethm']==1\n",
    "filter_by_partners_white = df['w1_q6b']==1\n",
    "\n",
    "#married/partnered with other white people \n",
    "cond = (married_adults_samep| partnered_adults_samep ) & filter_by_white_resp & filter_by_partners_white\n",
    "\n",
    "print(\"Number of white respondents:\", len(filter_by_white_resp))\n",
    "filter_columns1 = df.loc[cond,columns_to_print]\n",
    "print(\"Number of white people who are married/partnered who date other white people, wave1:\", len(filter_columns1))\n",
    "w1_white_to_white= filter_columns1['caseid_new'].tolist()"
   ]
  },
  {
   "cell_type": "code",
   "execution_count": 143,
   "id": "33ddc27c-1146-4158-bb23-1469078d179c",
   "metadata": {},
   "outputs": [
    {
     "name": "stdout",
     "output_type": "stream",
     "text": [
      "Number of white respondents: 3510\n",
      "Number of white people who are married/partnered date white people wave2: 1158\n",
      "      caseid_new  w2_ppethm  w2_Q6B\n",
      "1          71609        1.0     NaN\n",
      "2         106983        1.0     NaN\n",
      "3         121759        1.0     NaN\n",
      "5         164061        1.0     NaN\n",
      "8         214227        1.0     NaN\n",
      "...          ...        ...     ...\n",
      "3448     2959699        1.0     NaN\n",
      "3453     2960473        1.0     NaN\n",
      "3459     2961175        1.0     NaN\n",
      "3460     2961203        1.0     NaN\n",
      "3486     2964987        1.0     NaN\n",
      "\n",
      "[1158 rows x 3 columns]\n"
     ]
    }
   ],
   "source": [
    "# hypothesis: White people are less open to other racial groups \n",
    "#result: true.\n",
    "#WAVE 2\n",
    "\n",
    "married_adults_samep = df['w2_section']==1\n",
    "partnered_adults_samep = df['w2_section']==3\n",
    "\n",
    "filter_by_white_resp = df['w2_ppethm']==1\n",
    "filter_by_partners_white = df['w2_Q6B']==1\n",
    "\n",
    "cond = (married_adults_samep | partnered_adults_samep) & filter_by_white_resp\n",
    "print(\"Number of white respondents:\", len(filter_by_white_resp))\n",
    "filter_columns2 = df.loc[cond,columns_to_print]\n",
    "print(\"Number of white people who are married/partnered date white people wave2:\", len(filter_columns2))\n",
    "w2_white_to_white=filter_columns2['caseid_new'].tolist()\n",
    "print(filter_columns2)"
   ]
  },
  {
   "cell_type": "code",
   "execution_count": 144,
   "id": "4d8f20f0-4371-415e-8e03-9406038c55b8",
   "metadata": {},
   "outputs": [
    {
     "name": "stdout",
     "output_type": "stream",
     "text": [
      "Number of white respondents: 3510\n",
      "Number of white people who are married/partnered date white people wave3: 980\n",
      "      caseid_new  w2_ppethm  w2_Q6B\n",
      "0          53001        1.0     1.0\n",
      "1          71609        1.0     NaN\n",
      "2         106983        1.0     NaN\n",
      "5         164061        1.0     NaN\n",
      "8         214227        1.0     NaN\n",
      "...          ...        ...     ...\n",
      "3458     2961139        NaN     NaN\n",
      "3459     2961175        1.0     NaN\n",
      "3460     2961203        1.0     NaN\n",
      "3464     2962195        1.0     1.0\n",
      "3486     2964987        1.0     NaN\n",
      "\n",
      "[980 rows x 3 columns]\n",
      "980\n"
     ]
    }
   ],
   "source": [
    "# hypothesis: White people are less open to other racial groups \n",
    "#result: true.\n",
    "#WAVE 3\n",
    "\n",
    "married_adults_samep = df['w3_section']==1\n",
    "partnered_adults_samep = df['w3_section']==3\n",
    "\n",
    "filter_by_white_resp = df['w3_ppethm']==1\n",
    "filter_by_partners_white = df['w3_Q6B']==1\n",
    "\n",
    "cond = (married_adults_samep | partnered_adults_samep) & filter_by_white_resp\n",
    "print(\"Number of white respondents:\", len(filter_by_white_resp))\n",
    "filter_columns3 = df.loc[cond,columns_to_print]\n",
    "print(\"Number of white people who are married/partnered date white people wave3:\", len(filter_columns3))\n",
    "w3_white_to_white=filter_columns3['caseid_new'].tolist()\n",
    "print(filter_columns3)\n",
    "print(len(w3_white_to_white))"
   ]
  },
  {
   "cell_type": "code",
   "execution_count": 145,
   "id": "138bcf23-bc07-4b92-a2ec-a1ebcf35e931",
   "metadata": {},
   "outputs": [
    {
     "name": "stdout",
     "output_type": "stream",
     "text": [
      "Number of white people who are married/partnered who date other white people, wave1: 1067\n",
      "Number of white people who are married/partnered date white people wave2: 1158\n",
      "Number of white people who are married/partnered date white people wave3: 980\n",
      "Number of white people who married/partnered with other white people across all the waves\n",
      "790\n"
     ]
    }
   ],
   "source": [
    "import numpy as np\n",
    "\n",
    "print(\"Number of white people who are married/partnered who date other white people, wave1:\", len(filter_columns1))\n",
    "print(\"Number of white people who are married/partnered date white people wave2:\", len(filter_columns2))\n",
    "print(\"Number of white people who are married/partnered date white people wave3:\", len(filter_columns3))\n",
    "\n",
    "common_elements = np.intersect1d(w1_white_to_white, w2_white_to_white)\n",
    "print(\"Number of white people who married/partnered with other white people across all the waves\")\n",
    "print(len(np.intersect1d(common_elements, w3_white_to_white)))\n"
   ]
  },
  {
   "cell_type": "code",
   "execution_count": 94,
   "id": "71312189-d97c-4f04-af3c-aa1dbb9dfa30",
   "metadata": {},
   "outputs": [
    {
     "name": "stdout",
     "output_type": "stream",
     "text": [
      "Number of white respondents: 3510\n",
      "Number of white people who are married/partnered date other ethinicities, wave 1: 170\n"
     ]
    }
   ],
   "source": [
    "# hypothesis: White people are less open to other racial groups \n",
    "#result: True. Only 204 white people dated people outside their race whereas 2219 white people dated other white people \n",
    "#WAVE 1\n",
    "\n",
    "filter_by_white_resp = df['w1_ppethm']==1\n",
    "filter_by_partners_black = df['w1_q6b']==2 \n",
    "filter_by_partners_americanIndian = df['w1_q6b']==3\n",
    "filter_by_partners_asian = df['w1_q6b']==4\n",
    "filter_by_partners_other = df['w1_q6b']==5\n",
    "\n",
    "married_adults = df['w1_partnership_status']==1\n",
    "partnered_adults = df['w1_partnership_status']==2\n",
    "\n",
    "cond = (married_adults | partnered_adults) & filter_by_white_resp & (filter_by_partners_black | filter_by_partners_americanIndian | filter_by_partners_asian | filter_by_partners_other)\n",
    "\n",
    "print(\"Number of white respondents:\", len(filter_by_white_resp))\n",
    "filter_columns = df.loc[cond,columns_to_print]\n",
    "w1_white_to_other_ethnicites=filter_columns['caseid_new'].tolist()\n",
    "print(\"Number of white people who are married/partnered date other ethinicities, wave 1:\", len(w1_white_to_other_ethnicites))\n"
   ]
  },
  {
   "cell_type": "code",
   "execution_count": 103,
   "id": "51684100-5650-4184-b4d8-389de6e341cc",
   "metadata": {},
   "outputs": [
    {
     "name": "stdout",
     "output_type": "stream",
     "text": [
      "Number of white people who married/partnered with other ethnicities across all the waves\n",
      "71\n"
     ]
    }
   ],
   "source": [
    "import numpy as np\n",
    "\n",
    "common_elements = np.intersect1d(w1_white_to_other_ethnicites, w2_white_to_white, w3_white_to_white)\n",
    "print(\"Number of white people who married/partnered with other ethnicities across all the waves\")\n",
    "print(len(common_elements))"
   ]
  },
  {
   "cell_type": "code",
   "execution_count": 114,
   "id": "7a419044-6cc8-4d3d-b8fd-5c98eb43506a",
   "metadata": {},
   "outputs": [
    {
     "name": "stdout",
     "output_type": "stream",
     "text": [
      "WAVE 1\n",
      "Total number of women respondents 1764\n",
      "Number of white women married/partnered respondents 1039\n",
      "Number of black women married/partnered respondents 118\n",
      "Number of other women married/partnered respondents 60\n",
      "Number of white women married/partnered who date other races 80\n",
      "Number of black women married/partnered who date other races 22\n",
      "Number of women married/partnered who identify 'other' date races who identify 'other' 38\n",
      "Number of white women married/partnered who date white 955\n",
      "Number of black women married/partnered who date black 95\n"
     ]
    }
   ],
   "source": [
    "#hypothesis: women less likely to date outside race, assuming both homosexual and heterosexual relationships\n",
    "#result: true. Majority of respondents were white women (1243) who dated other white people -1119. Out of 165 black women, 129 black women dated other \n",
    "#black people. The proportion of them dating other races is significantly low. The same can be said about women of other ethnicities. \n",
    "\n",
    "columns_to_print1= ['caseid_new','w1_ppethm' ,'w1_q6b']\n",
    "\n",
    "married_adults1 = df['w1_partnership_status']==1\n",
    "partnered_adults1 = df['w1_partnership_status']==2\n",
    "\n",
    "filter_by_women1 = df['w1_ppgender']==2\n",
    "filter_by_women_white1 = df['w1_ppethm']==1\n",
    "filter_by_women_black1 = df['w1_ppethm']==2\n",
    "filter_by_women_other1 = df['w1_ppethm']==3\n",
    "\n",
    "\n",
    "filter_by_partners_white1 = df['w1_q6b']==1\n",
    "filter_by_partners_black1 = df['w1_q6b']==2 \n",
    "filter_by_partners_americanIndian1 = df['w1_q6b']==3\n",
    "filter_by_partners_asian1 = df['w1_q6b']==4\n",
    "filter_by_partners_other1 = df['w1_q6b']==5\n",
    "\n",
    "#cond where people are white and identify as women\n",
    "cond_women_white1 = (married_adults1 | partnered_adults1) & filter_by_women1 & filter_by_women_white1\n",
    "\n",
    "#cond where people are black and identify as women\n",
    "cond_women_black1 = (married_adults1 | partnered_adults1) & filter_by_women1 & filter_by_women_black1\n",
    "\n",
    "#cond where people are other and identify as women\n",
    "cond_women_other1 = (married_adults1 | partnered_adults1) & filter_by_women1 & filter_by_women_other1\n",
    "\n",
    "#proportion of white women who date other races \n",
    "cond_white_women_pref1 = (married_adults1 | partnered_adults1) & filter_by_women1 & filter_by_women_white1 & (filter_by_partners_black1 \n",
    "                                                                                                              | filter_by_partners_americanIndian1 |filter_by_partners_asian1\n",
    "                                                  |filter_by_partners_other1)\n",
    "#proportion of black women who date other races \n",
    "cond_black_women_pref1 = (married_adults1 | partnered_adults1) & filter_by_women1 & filter_by_women_black1 & (filter_by_partners_white1 | filter_by_partners_americanIndian1 |filter_by_partners_asian1\n",
    "                                                  |filter_by_partners_other1)\n",
    "\n",
    "#proportion of women who put other dating people who put 'other' as their ethnicity \n",
    "cond_other_women_with_other1 = (married_adults1 | partnered_adults1) & filter_by_women1 & filter_by_women_other1 & (filter_by_partners_other1 | filter_by_partners_americanIndian1 | filter_by_partners_asian1)\n",
    "\n",
    "#proportion of white women dating other white people \n",
    "cond_white_women_with_white1 = (married_adults1 | partnered_adults1) & filter_by_women1 & filter_by_women_white1 & filter_by_partners_white1\n",
    "\n",
    "#proportion of black women dating other black people \n",
    "cond_black_women_with_black1 = (married_adults1 | partnered_adults1) & filter_by_women1 & filter_by_women_black1 & filter_by_partners_black1\n",
    "\n",
    "print(\"WAVE 1\")\n",
    "\n",
    "print(\"Total number of women respondents\",len(df.loc[filter_by_women1,columns_to_print1]))\n",
    "print(\"Number of white women married/partnered respondents\",len(df.loc[cond_women_white1,columns_to_print1]))\n",
    "print(\"Number of black women married/partnered respondents\",len(df.loc[cond_women_black1,columns_to_print1]))\n",
    "print(\"Number of other women married/partnered respondents\",len(df.loc[cond_women_other1,columns_to_print1]))\n",
    "\n",
    "print(\"Number of white women married/partnered who date other races\",len(df.loc[cond_white_women_pref1,columns_to_print1]))\n",
    "print(\"Number of black women married/partnered who date other races\",len(df.loc[cond_black_women_pref1,columns_to_print1]))\n",
    "print(\"Number of women married/partnered who identify 'other' date races who identify 'other'\", len(df.loc[cond_other_women_with_other1,columns_to_print1]))\n",
    "print(\"Number of white women married/partnered who date white\",len(df.loc[cond_white_women_with_white1,columns_to_print1]))\n",
    "print(\"Number of black women married/partnered who date black\",len(df.loc[cond_black_women_with_black1,columns_to_print1]))\n"
   ]
  },
  {
   "cell_type": "code",
   "execution_count": 116,
   "id": "818191c4-7b0a-4587-9122-76a9ab7c3b4b",
   "metadata": {},
   "outputs": [
    {
     "name": "stdout",
     "output_type": "stream",
     "text": [
      "WAVE 2\n",
      "Total number of women married/partnered respondents 976\n",
      "Number of white women married/partnered respondents 508\n",
      "Number of black women married/partnered respondents 41\n",
      "Number of other women married/partnered respondents 22\n"
     ]
    }
   ],
   "source": [
    "#hypothesis: women less likely to date outside race, assuming both homosexual and heterosexual relationships\n",
    "#result: true. Majority of respondents were white women (1243) who dated other white people -1119. Out of 165 black women, 129 black women dated other \n",
    "#black people. The proportion of them dating other races is significantly low. The same can be said about women of other ethnicities. \n",
    "\n",
    "columns_to_print2= ['caseid_new','w2_ppethm' ,'w2_Q6B']\n",
    "\n",
    "filter_by_women2 = df['w2_ppgender']==2\n",
    "filter_by_women_white2 = df['w2_ppethm']==1\n",
    "filter_by_women_black2 = df['w2_ppethm']==2\n",
    "filter_by_women_other2 = df['w2_ppethm']==3\n",
    "\n",
    "married_adults_samep2 = df['w2_section']==1\n",
    "partnered_adults_samep2 = df['w2_section']==3\n",
    "\n",
    "\n",
    "filter_by_partners_white = df['w2_Q6B']==1\n",
    "filter_by_partners_black = df['w2_Q6B']==2 \n",
    "filter_by_partners_americanIndian = df['w2_Q6B']==3\n",
    "filter_by_partners_asian = df['w2_Q6B']==4\n",
    "filter_by_partners_other = df['w2_Q6B']==5\n",
    "\n",
    "#cond where people are white and identify as women\n",
    "cond_women_white2 = (married_adults_samep2|partnered_adults_samep2) &filter_by_women2 & filter_by_women_white2\n",
    "\n",
    "#cond where people are black and identify as women\n",
    "cond_women_black2 = (married_adults_samep2|partnered_adults_samep2) & filter_by_women2 & filter_by_women_black2\n",
    "\n",
    "#cond where people are other and identify as women\n",
    "cond_women_other2= (married_adults_samep2|partnered_adults_samep2) & filter_by_women2 & filter_by_women_other2\n",
    "\n",
    "\n",
    "print(\"WAVE 2\")\n",
    "print(\"Total number of women married/partnered respondents\",len(df.loc[filter_by_women2,columns_to_print2]))\n",
    "print(\"Number of white women married/partnered respondents\",len(df.loc[cond_women_white2,columns_to_print2]))\n",
    "print(\"Number of black women married/partnered respondents\",len(df.loc[cond_women_black2,columns_to_print2]))\n",
    "print(\"Number of other women married/partnered respondents\",len(df.loc[cond_women_other2,columns_to_print2]))"
   ]
  },
  {
   "cell_type": "code",
   "execution_count": 129,
   "id": "d0a500da-d069-4b7e-b27e-c136e148c533",
   "metadata": {},
   "outputs": [
    {
     "name": "stdout",
     "output_type": "stream",
     "text": [
      "WAVE 3\n",
      "Total number of women married/partnered respondents 773\n",
      "Number of white women married/partnered respondents 437\n",
      "Number of black women married/partnered respondents 36\n",
      "Number of other women married/partnered respondents 17\n"
     ]
    }
   ],
   "source": [
    "#hypothesis: women less likely to date outside race, assuming both homosexual and heterosexual relationships\n",
    "\n",
    "columns_to_print3= ['caseid_new','w3_ppethm' ,'w3_Q6B']\n",
    "\n",
    "filter_by_women3 = df['w3_ppgender']==2\n",
    "filter_by_women_white3 = df['w3_ppethm']==1\n",
    "filter_by_women_black3 = df['w3_ppethm']==2\n",
    "filter_by_women_other3 = df['w3_ppethm']==3\n",
    "\n",
    "married_adults_samep3 = df['w3_section']==1\n",
    "partnered_adults_samep3 = df['w3_section']==3\n",
    "\n",
    "\n",
    "filter_by_partners_white = df['w2_Q6B']==1\n",
    "filter_by_partners_black = df['w2_Q6B']==2 \n",
    "filter_by_partners_americanIndian = df['w2_Q6B']==3\n",
    "filter_by_partners_asian = df['w2_Q6B']==4\n",
    "filter_by_partners_other = df['w2_Q6B']==5\n",
    "\n",
    "#cond where people are white and identify as women\n",
    "cond_women_white3 = (married_adults_samep3|partnered_adults_samep3) &filter_by_women3 & filter_by_women_white3\n",
    "\n",
    "#cond where people are black and identify as women\n",
    "cond_women_black3 = (married_adults_samep3|partnered_adults_samep3) & filter_by_women3 & filter_by_women_black3\n",
    "\n",
    "#cond where people are other and identify as women\n",
    "cond_women_other3 = (married_adults_samep3|partnered_adults_samep3) & filter_by_women3 & filter_by_women_other3\n",
    "\n",
    "\n",
    "print(\"WAVE 3\")\n",
    "print(\"Total number of women married/partnered respondents\",len(df.loc[filter_by_women3,columns_to_print3]))\n",
    "print(\"Number of white women married/partnered respondents\",len(df.loc[cond_women_white3,columns_to_print3]))\n",
    "print(\"Number of black women married/partnered respondents\",len(df.loc[cond_women_black3,columns_to_print3]))\n",
    "print(\"Number of other women married/partnered respondents\",len(df.loc[cond_women_other3,columns_to_print3]))\n"
   ]
  },
  {
   "cell_type": "code",
   "execution_count": 141,
   "id": "5996d57c-42d2-4f7c-b91c-7ab40a76fd57",
   "metadata": {},
   "outputs": [
    {
     "name": "stdout",
     "output_type": "stream",
     "text": [
      "332\n",
      "out of 437 white women in wave3, 332 white women were married/partnered with other white people across all waves\n",
      "22\n",
      "out of 36 white women in wave3, 22 black women were married/partnered with other black people across all waves\n"
     ]
    }
   ],
   "source": [
    "import numpy as np\n",
    "\n",
    "white_women_date_white_wave1= df.loc[cond_white_women_with_white,columns_to_print1]['caseid_new']\n",
    "white_women_wave2= df.loc[cond_women_white2,columns_to_print2]['caseid_new']\n",
    "white_women_wave3 = df.loc[cond_women_white3,columns_to_print3]['caseid_new']\n",
    "com_white= np.intersect1d(white_women_date_white_wave1,white_women_wave2)\n",
    "com_white2= np.intersect1d(com_white,white_women_wave3)\n",
    "print(len(com_white2))\n",
    "\n",
    "print(\"out of 437 white women in wave3, 332 white women were married/partnered with other white people across all waves\")\n",
    "\n",
    "black_women_date_black_wave1= df.loc[cond_black_women_with_black1,columns_to_print1]['caseid_new']\n",
    "black_women_wave2=df.loc[cond_women_black2,columns_to_print2]['caseid_new']\n",
    "black_women_wave3=df.loc[cond_women_black3,columns_to_print3]['caseid_new']\n",
    "com_black= np.intersect1d(black_women_date_black_wave1,black_women_wave2)\n",
    "com2_black= np.intersect1d(com_black,black_women_wave3)\n",
    "print(len(com2_black))\n",
    "\n",
    "print(\"out of 36 white women in wave3, 22 black women were married/partnered with other black people across all waves\")\n",
    "\n",
    "\n"
   ]
  },
  {
   "cell_type": "code",
   "execution_count": 5,
   "id": "64335459-4e0b-46a9-ba22-0f4adc56ccb6",
   "metadata": {},
   "outputs": [
    {
     "name": "stdout",
     "output_type": "stream",
     "text": [
      "Total number of men respondents 1746\n",
      "Number of white men respondents 1260\n",
      "Number of black men respondents 146\n",
      "Number of other men respondents 74\n",
      "Number of white men who date other races 111\n",
      "Number of black men who date other races 44\n",
      "Number of men who identify 'other' date races who identify 'other' 53\n",
      "Number of white men who date white 1100\n",
      "Number of black men who date black 96\n"
     ]
    }
   ],
   "source": [
    "#hypothesis: men express more willingness to date interracial compared to women\n",
    "#result: not true in this case. \n",
    "\n",
    "columns_to_print= ['caseid_new','w1_ppethm' ,'w1_q6b']\n",
    "\n",
    "filter_by_men = df['w1_ppgender']==1\n",
    "filter_by_men_white = df['w1_ppethm']==1\n",
    "filter_by_men_black = df['w1_ppethm']==2\n",
    "filter_by_men_other = df['w1_ppethm']==3\n",
    "\n",
    "\n",
    "filter_by_partners_white = df['w1_q6b']==1\n",
    "filter_by_partners_black = df['w1_q6b']==2 \n",
    "filter_by_partners_americanIndian = df['w1_q6b']==3\n",
    "filter_by_partners_asian = df['w1_q6b']==4\n",
    "filter_by_partners_other = df['w1_q6b']==5\n",
    "\n",
    "#cond where people are white and identify as men\n",
    "cond_men_white = filter_by_men & filter_by_men_white\n",
    "\n",
    "#cond where people are black and identify as men\n",
    "cond_men_black = filter_by_men & filter_by_men_black\n",
    "\n",
    "#cond where people are other and identify as men\n",
    "cond_men_other = filter_by_men & filter_by_men_other\n",
    "\n",
    "#proportion of white men who date other races \n",
    "cond_white_men_pref = filter_by_men & filter_by_men_white & (filter_by_partners_black | filter_by_partners_americanIndian |filter_by_partners_asian\n",
    "                                                  |filter_by_partners_other)\n",
    "#proportion of black men who date other races \n",
    "cond_black_men_pref = filter_by_men & filter_by_men_black & (filter_by_partners_white | filter_by_partners_americanIndian |filter_by_partners_asian\n",
    "                                                  |filter_by_partners_other)\n",
    "\n",
    "#proportion of men who put other dating people who put 'other' as their ethnicity \n",
    "cond_other_men_with_other = filter_by_men & filter_by_men_other & (filter_by_partners_other | filter_by_partners_americanIndian | filter_by_partners_asian)\n",
    "\n",
    "#proportion of white men dating other white people \n",
    "cond_white_men_with_white = filter_by_men & filter_by_men_white & filter_by_partners_white\n",
    "\n",
    "#proportion of black men dating other black people \n",
    "cond_black_men_with_black = filter_by_men & filter_by_men_black & filter_by_partners_black\n",
    "\n",
    "print(\"Total number of men respondents\",len(df.loc[filter_by_men,columns_to_print]))\n",
    "print(\"Number of white men respondents\",len(df.loc[cond_men_white,columns_to_print]))\n",
    "print(\"Number of black men respondents\",len(df.loc[cond_men_black,columns_to_print]))\n",
    "print(\"Number of other men respondents\",len(df.loc[cond_men_other,columns_to_print]))\n",
    "\n",
    "print(\"Number of white men who date other races\",len(df.loc[cond_white_men_pref,columns_to_print]))\n",
    "print(\"Number of black men who date other races\",len(df.loc[cond_black_men_pref,columns_to_print]))\n",
    "print(\"Number of men who identify 'other' date races who identify 'other'\", len(df.loc[cond_other_men_with_other,columns_to_print]))\n",
    "print(\"Number of white men who date white\",len(df.loc[cond_white_men_with_white,columns_to_print]))\n",
    "print(\"Number of black men who date black\",len(df.loc[cond_black_men_with_black,columns_to_print]))\n"
   ]
  },
  {
   "cell_type": "code",
   "execution_count": 11,
   "id": "f6a84f99-3740-4aaa-bde3-b2525431fc2d",
   "metadata": {},
   "outputs": [
    {
     "name": "stdout",
     "output_type": "stream",
     "text": [
      "Number of people who prefer black women: 122\n",
      "Number of people who prefer white women: 1268\n",
      "Number of people who prefer americanIndian women: 18\n",
      "Number of people who prefer asian women: 93\n",
      "Number of people who prefer other women: 83\n"
     ]
    }
   ],
   "source": [
    "#hypothesis: Black women are least preferred in the dating scene \n",
    "#result: Compared to white women, American Indian, Asian and Black women are the least preferred \n",
    "\n",
    "columns_to_print= ['caseid_new','w1_ppethm' ,'w1_q4','w1_q6b']\n",
    "\n",
    "filter_by_partners_women = df['w1_q4']==2\n",
    "filter_by_partners_white = df['w1_q6b']==1\n",
    "filter_by_partners_black = df['w1_q6b']==2 \n",
    "filter_by_partners_americanIndian = df['w1_q6b']==3\n",
    "filter_by_partners_asian = df['w1_q6b']==4\n",
    "filter_by_partners_other = df['w1_q6b']==5\n",
    "\n",
    "\n",
    "#proportion of people who prefer black women \n",
    "cond_partners_black= filter_by_partners_women & filter_by_partners_black \n",
    "#proportion of people who prefer white women \n",
    "cond_partners_white= filter_by_partners_women & filter_by_partners_white\n",
    "cond_partners_americanIndian= filter_by_partners_women & filter_by_partners_americanIndian\n",
    "cond_partners_asian= filter_by_partners_women & filter_by_partners_asian\n",
    "cond_partners_other= filter_by_partners_women & filter_by_partners_other\n",
    "\n",
    "\n",
    "\n",
    "print(\"Number of people who prefer black women:\",len(df.loc[cond_partners_black,columns_to_print]))\n",
    "print(\"Number of people who prefer white women:\",len(df.loc[cond_partners_white,columns_to_print]))\n",
    "print(\"Number of people who prefer americanIndian women:\",len(df.loc[cond_partners_americanIndian,columns_to_print]))\n",
    "print(\"Number of people who prefer asian women:\",len(df.loc[cond_partners_asian,columns_to_print]))\n",
    "print(\"Number of people who prefer other women:\",len(df.loc[cond_partners_other,columns_to_print]))\n",
    "\n",
    "\n",
    "\n",
    "\n"
   ]
  },
  {
   "cell_type": "code",
   "execution_count": 14,
   "id": "18fb3628-5ee5-47e7-8bfa-c30fc0e5d65d",
   "metadata": {},
   "outputs": [
    {
     "name": "stdout",
     "output_type": "stream",
     "text": [
      "Number of people who prefer black men: 190\n",
      "Number of people who prefer white men: 1410\n",
      "Number of people who prefer americanIndian men: 18\n",
      "Number of people who prefer asian men: 65\n",
      "Number of people who prefer other men: 104\n"
     ]
    }
   ],
   "source": [
    "#hypotheis: Asian men are the least preferred\n",
    "#result: Asian, American Indian men and Black men form the smallest minority\n",
    "\n",
    "columns_to_print= ['caseid_new','w1_ppethm' ,'w1_q4','w1_q6b']\n",
    "\n",
    "filter_by_partners_men = df['w1_q4']==1\n",
    "filter_by_partners_white = df['w1_q6b']==1\n",
    "filter_by_partners_black = df['w1_q6b']==2 \n",
    "filter_by_partners_americanIndian = df['w1_q6b']==3\n",
    "filter_by_partners_asian = df['w1_q6b']==4\n",
    "filter_by_partners_other = df['w1_q6b']==5\n",
    "\n",
    "\n",
    "#proportion of people who prefer black men \n",
    "cond_partners_black= filter_by_partners_men & filter_by_partners_black \n",
    "#proportion of people who prefer white men \n",
    "cond_partners_white= filter_by_partners_men & filter_by_partners_white\n",
    "cond_partners_americanIndian= filter_by_partners_men & filter_by_partners_americanIndian\n",
    "cond_partners_asian= filter_by_partners_men & filter_by_partners_asian\n",
    "cond_partners_other= filter_by_partners_men & filter_by_partners_other\n",
    "\n",
    "\n",
    "\n",
    "print(\"Number of people who prefer black men:\",len(df.loc[cond_partners_black,columns_to_print]))\n",
    "print(\"Number of people who prefer white men:\",len(df.loc[cond_partners_white,columns_to_print]))\n",
    "print(\"Number of people who prefer americanIndian men:\",len(df.loc[cond_partners_americanIndian,columns_to_print]))\n",
    "print(\"Number of people who prefer asian men:\",len(df.loc[cond_partners_asian,columns_to_print]))\n",
    "print(\"Number of people who prefer other men:\",len(df.loc[cond_partners_other,columns_to_print]))"
   ]
  },
  {
   "cell_type": "code",
   "execution_count": null,
   "id": "89e3dc5a-0a8b-4c27-b6ec-171853e30467",
   "metadata": {},
   "outputs": [],
   "source": []
  }
 ],
 "metadata": {
  "kernelspec": {
   "display_name": "Python 3 (ipykernel)",
   "language": "python",
   "name": "python3"
  },
  "language_info": {
   "codemirror_mode": {
    "name": "ipython",
    "version": 3
   },
   "file_extension": ".py",
   "mimetype": "text/x-python",
   "name": "python",
   "nbconvert_exporter": "python",
   "pygments_lexer": "ipython3",
   "version": "3.12.1"
  }
 },
 "nbformat": 4,
 "nbformat_minor": 5
}
