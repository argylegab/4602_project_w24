{
 "cells": [
  {
   "cell_type": "code",
   "execution_count": 14,
   "id": "54e0983f-0903-4b3a-887d-cb6662001f37",
   "metadata": {},
   "outputs": [
    {
     "name": "stdout",
     "output_type": "stream",
     "text": [
      "      caseid_new  w1_section  w2_section  w3_section  w1_partyid7  w1_q12\n",
      "0          53001           1         2.0         3.0          6.0     1.0\n",
      "1          71609           1         1.0         1.0          3.0     3.0\n",
      "2         106983           1         1.0         1.0          7.0     7.0\n",
      "3         121759           1         1.0         NaN          2.0     4.0\n",
      "4         158083           2         6.0         6.0          3.0     2.0\n",
      "...          ...         ...         ...         ...          ...     ...\n",
      "3505     2967957           1         NaN         NaN          7.0     6.0\n",
      "3506     2968357           1         NaN         NaN          3.0     4.0\n",
      "3507     2968971           1         NaN         NaN          5.0     4.0\n",
      "3508     2969933           1         NaN         NaN          6.0     7.0\n",
      "3509     2972135           1         NaN         NaN          3.0     5.0\n",
      "\n",
      "[3510 rows x 6 columns]\n"
     ]
    }
   ],
   "source": [
    "import pandas as pd\n",
    "import numpy as np\n",
    "import matplotlib.pyplot as plt\n",
    "%matplotlib inline\n",
    "\n",
    "# Specify the file path\n",
    "file_path = 'hcmst2017to2022.csv'\n",
    "\n",
    "# Read the CSV file into a pandas DataFrame\n",
    "df = pd.read_csv(file_path)\n",
    "\n",
    "# Change string numeric values to actual numeric values\n",
    "for column in df.columns:\n",
    "    df[column] = pd.to_numeric(df[column], errors='coerce')\n",
    "\n",
    "# Display the DataFrame\n",
    "#print(df.columns)\n",
    "\n",
    "# Specify the column names you want to print\n",
    "columns_to_print = ['caseid_new', 'w1_section', 'w2_section', 'w3_section', 'w1_partyid7', 'w1_q12']\n",
    "\n",
    "# Print the specified columns\n",
    "print(df[columns_to_print])"
   ]
  },
  {
   "cell_type": "code",
   "execution_count": 15,
   "id": "ae5b0cba-334f-474e-8c03-b64dc3276c91",
   "metadata": {},
   "outputs": [
    {
     "name": "stdout",
     "output_type": "stream",
     "text": [
      "[1 2 3]\n",
      "[ 2.  1.  6.  3. nan  5.  4.]\n",
      "[ 3.  1. nan  6.  5.  4.  2.]\n",
      "[ 6.  3.  7.  2.  1.  5. nan  4.]\n",
      "[ 1.  3.  7.  4.  2.  6.  5. nan -1.]\n"
     ]
    }
   ],
   "source": [
    "# looking at possible values for each col\n",
    "print(df['w1_section'].unique())  # possible values for relationship status in wave 1\n",
    "print(df['w2_section'].unique())  # possible values for relationship status in wave 2\n",
    "print(df['w3_section'].unique())  # possible values for relationship status in wave 3\n",
    "print(df['w1_partyid7'].unique()) # possible values for respondent's political party\n",
    "print(df['w1_q12'].unique()) # possible values for partner's political party\n"
   ]
  },
  {
   "cell_type": "code",
   "execution_count": 16,
   "id": "e40e72af-a81d-40a3-8598-63a20f237062",
   "metadata": {},
   "outputs": [
    {
     "name": "stdout",
     "output_type": "stream",
     "text": [
      "      caseid_new  w1_section  w2_section  w3_section  w1_partyid7  w1_q12\n",
      "1          71609           1         1.0         1.0          3.0     3.0\n",
      "2         106983           1         1.0         1.0          7.0     7.0\n",
      "5         164061           1         1.0         1.0          2.0     2.0\n",
      "7         212249           1         1.0         1.0          1.0     1.0\n",
      "8         214227           1         1.0         1.0          3.0     6.0\n",
      "...          ...         ...         ...         ...          ...     ...\n",
      "3438     2958163           1         1.0         1.0          3.0     3.0\n",
      "3448     2959699           1         1.0         1.0          5.0     6.0\n",
      "3459     2961175           1         1.0         1.0          2.0     6.0\n",
      "3460     2961203           1         1.0         1.0          1.0     1.0\n",
      "3486     2964987           1         1.0         1.0          1.0     1.0\n",
      "\n",
      "[1096 rows x 6 columns]\n"
     ]
    }
   ],
   "source": [
    "# lets start by looking at all the couples that have stayed together through wave 1, 2, and 3\n",
    "\n",
    "condition1 = df['w1_section'] == 1 # those who were partenered in 2017\n",
    "condition2 = df['w2_section'] == 1 # who are still married to the same partner in wave 2\n",
    "condition3 = df['w2_section'] == 3 # or still partnered with that same partner but not married (but still together) in wave 2 \n",
    "# (note that we are not looking at those with new partners in w2/w3)\n",
    "condition4 = df['w3_section'] == 1 # who are still married to the same partner in wave 3\n",
    "condition5 = df['w3_section'] == 3 # or still partnered with that same partner but not married (but still together) in wave 2 \n",
    "\n",
    "\n",
    "# Combine conditions using boolean AND (&)\n",
    "combined_condition = condition1 & (condition2 | condition3) & (condition4 | condition5)\n",
    "\n",
    "# Filter rows based on the combined condition and print the specified columns\n",
    "filtered_rows = df.loc[combined_condition, columns_to_print]\n",
    "\n",
    "# Print the filtered rows\n",
    "print(filtered_rows)"
   ]
  },
  {
   "cell_type": "code",
   "execution_count": 17,
   "id": "d08ce579-8be3-404b-9856-4ba1b8d659d6",
   "metadata": {},
   "outputs": [
    {
     "name": "stdout",
     "output_type": "stream",
     "text": [
      "      caseid_new  w1_section  w2_section  w3_section  w1_partyid7  w1_q12\n",
      "1          71609           1         1.0         1.0          3.0     3.0\n",
      "2         106983           1         1.0         1.0          7.0     7.0\n",
      "5         164061           1         1.0         1.0          2.0     2.0\n",
      "7         212249           1         1.0         1.0          1.0     1.0\n",
      "9         218351           1         1.0         1.0          2.0     2.0\n",
      "...          ...         ...         ...         ...          ...     ...\n",
      "3338     2943301           1         3.0         3.0          5.0     5.0\n",
      "3402     2951689           1         1.0         1.0          7.0     7.0\n",
      "3438     2958163           1         1.0         1.0          3.0     3.0\n",
      "3460     2961203           1         1.0         1.0          1.0     1.0\n",
      "3486     2964987           1         1.0         1.0          1.0     1.0\n",
      "\n",
      "[408 rows x 6 columns]\n",
      "[  71609, 106983, 164061, 212249, 218351, 369975, 428211, 589881, 608697,\n",
      "  634833, 643505, 648669, 651349, 654589, 657869, 694739, 705457, 724199,\n",
      "  726431, 728327, 734689, 774843, 782789, 810569, 812769, 813467, 817367,\n",
      "  846827, 861113, 882717, 916551, 924575, 957155, 999415,1004329,1011851,\n",
      " 1033007,1059357,1070983,1073943,1077443,1080635,1088237,1100227,1101051,\n",
      " 1107709,1115473,1126257,1141793,1151149,1156893,1157187,1161211,1163737,\n",
      " 1167085,1172171,1177155,1181275,1193135,1218979,1221467,1222679,1225799,\n",
      " 1230459,1234029,1238075,1258803,1271293,1276051,1284217,1318305,1323365,\n",
      " 1325417,1349167,1349877,1352199,1371445,1372507,1373785,1374091,1382361,\n",
      " 1385831,1411245,1420887,1421987,1425299,1430863,1441973,1445543,1449039,\n",
      " 1466315,1483013,1490477,1492417,1505847,1508733,1518259,1524367,1570485,\n",
      " 1571537,1575841,1596895,1597821,1621115,1638359,1644835,1658485,1665693,\n",
      " 1678835,1688409,1689267,1691673,1692763,1707755,1712857,1723297,1727435,\n",
      " 1736313,1738505,1739387,1740471,1746431,1756667,1757463,1757623,1757785,\n",
      " 1758551,1762955,1768829,1770495,1774405,1785191,1786077,1786675,1786749,\n",
      " 1790879,1791149,1791377,1794225,1801065,1806971,1815129,1815571,1823887,\n",
      " 1824065,1825867,1828001,1831603,1845081,1848983,1851301,1854475,1870403,\n",
      " 1883037,1885139,1888381,1899449,1899645,1900621,1902067,1902987,1910719,\n",
      " 1911165,1912917,1914889,1916039,1926353,1930585,1935509,1935873,1942391,\n",
      " 1943633,1947341,1958229,1958605,1974537,1975919,1979711,1979935,1982563,\n",
      " 1984819,1988099,1989553,1994249,1996333,2014793,2015057,2018973,2028967,\n",
      " 2032401,2033003,2043853,2044441,2054225,2054791,2065091,2065295,2072325,\n",
      " 2074241,2075775,2076645,2089701,2109385,2132357,2142099,2143321,2144859,\n",
      " 2146521,2150647,2150703,2152283,2155971,2161255,2162891,2163905,2167453,\n",
      " 2169639,2170187,2174237,2177551,2205751,2207131,2228393,2231079,2232929,\n",
      " 2237055,2237111,2237691,2243015,2247423,2254741,2259031,2267513,2270949,\n",
      " 2275209,2283143,2283455,2283991,2287223,2295089,2296453,2296989,2300461,\n",
      " 2308025,2310793,2312649,2317233,2320991,2325909,2327101,2333153,2336171,\n",
      " 2344635,2345685,2346013,2346389,2354673,2355501,2356411,2362051,2363917,\n",
      " 2409947,2411543,2411689,2413081,2413249,2417365,2419259,2419327,2422835,\n",
      " 2427329,2429297,2430261,2431217,2431691,2436775,2436989,2440127,2441733,\n",
      " 2443391,2445857,2447595,2449593,2453103,2458389,2458979,2460749,2478473,\n",
      " 2478601,2483431,2484003,2494315,2530989,2531511,2535467,2535477,2550963,\n",
      " 2551603,2554257,2555043,2555743,2559479,2564805,2567945,2578951,2583199,\n",
      " 2587903,2588235,2605123,2606759,2611269,2613043,2630171,2630463,2635321,\n",
      " 2641193,2644371,2646953,2656603,2664913,2669515,2673921,2679531,2684117,\n",
      " 2686295,2689423,2689601,2690979,2693307,2699919,2700763,2700937,2702949,\n",
      " 2705963,2712273,2717509,2718999,2722303,2724951,2729559,2735307,2740129,\n",
      " 2744495,2749859,2756929,2762099,2763005,2775521,2776317,2777181,2779043,\n",
      " 2780785,2781391,2785079,2788261,2807193,2808325,2817849,2826185,2826901,\n",
      " 2838251,2840173,2842301,2842485,2844419,2845847,2849977,2850177,2853477,\n",
      " 2853837,2854455,2855435,2856247,2856907,2857095,2860697,2866203,2870179,\n",
      " 2870711,2875975,2876231,2882861,2893053,2898559,2900187,2905009,2905035,\n",
      " 2908131,2912135,2912503,2914073,2914149,2917523,2923211,2926919,2929765,\n",
      " 2930211,2930255,2930383,2933033,2934313,2942253,2942743,2943301,2951689,\n",
      " 2958163,2961203,2964987]\n"
     ]
    }
   ],
   "source": [
    "# let's look at homophily in couples based on sharing the same political ideology or leaning\n",
    "# the following is for those who have the same exact 'score' on the survey's political spectrum\n",
    "\n",
    "condition1 = df['w1_section'] == 1 # those who were partenered in 2017\n",
    "condition2 = df['w2_section'] == 1 # who are still married to the same partner in wave 2\n",
    "condition3 = df['w2_section'] == 3 # or still partnered with that same partner but not married (but still together) in wave 2 \n",
    "# (note that we are not looking at those with new partners in w2/w3)\n",
    "condition4 = df['w3_section'] == 1 # who are still married to the same partner in wave 3\n",
    "condition5 = df['w3_section'] == 3 # or still partnered with that same partner but not married (but still together) in wave 2 \n",
    "condition6 = df['w1_partyid7'] == df['w1_q12'] # same political leaning 'score'\n",
    "\n",
    "# Combine conditions using boolean AND (&)\n",
    "combined_condition = condition1 & (condition2 | condition3) & (condition4 | condition5) & condition6\n",
    "\n",
    "# Filter rows based on the combined condition and print the specified columns\n",
    "filtered_rowsHomophily = df.loc[combined_condition, columns_to_print]\n",
    "\n",
    "# Print the filtered rows\n",
    "print(filtered_rowsHomophily)\n",
    "outlierArr = filtered_rowsHomophily['caseid_new'].values\n",
    "print(np.array2string(outlierArr, separator=','))\n",
    "#column_frequenciesHomophily = filtered_rowsHomophilyAllCols.apply(pd.Series.value_counts)\n",
    "#column_frequenciesHomophily.to_csv('homophilValuesFrequencies_politicalparty.csv', index=False)\n"
   ]
  },
  {
   "cell_type": "code",
   "execution_count": 18,
   "id": "b6a89d5b-2098-447c-95f4-f7df982168db",
   "metadata": {},
   "outputs": [
    {
     "name": "stdout",
     "output_type": "stream",
     "text": [
      "      caseid_new  w1_section  w2_section  w3_section  w1_partyid7  w1_q12\n",
      "1027     1908725           1         1.0         1.0          7.0     1.0\n",
      "1244     1991077           1         1.0         1.0          7.0     1.0\n",
      "1415     2101713           1         3.0         3.0          7.0     1.0\n",
      "2046     2437991           1         1.0         1.0          7.0     1.0\n",
      "2391     2634995           1         1.0         1.0          1.0     7.0\n",
      "2599     2737695           1         3.0         3.0          7.0     1.0\n",
      "2620     2753941           1         1.0         1.0          7.0     1.0\n",
      "2678     2774941           1         1.0         1.0          7.0     1.0\n",
      "3050     2883019           1         3.0         3.0          1.0     7.0\n"
     ]
    }
   ],
   "source": [
    "# from above - 408 (near half) of the 1096 couples that stayed together through the 3 waves scored the exact same\n",
    "\n",
    "# so now let's look at couples who are the furthest away from each other on the political spectrum\n",
    "\n",
    "condition1 = df['w1_section'] == 1 # those who were partenered in 2017\n",
    "condition2 = df['w2_section'] == 1 # who are still married to the same partner in wave 2\n",
    "condition3 = df['w2_section'] == 3 # or still partnered with that same partner but not married (but still together) in wave 2 \n",
    "# (note that we are not looking at those with new partners in w2/w3)\n",
    "condition4 = df['w3_section'] == 1 # who are still married to the same partner in wave 3\n",
    "condition5 = df['w3_section'] == 3 # or still partnered with that same partner but not married (but still together) in wave 2 \n",
    "\n",
    "# filtering for political party affiliation most steps away\n",
    "condition6 = (df['w1_partyid7'] - df['w1_q12']) == 6\n",
    "# and vice versa\n",
    "condition7 = (df['w1_q12'] - df['w1_partyid7']) == 6\n",
    "\n",
    "# Combine conditions using boolean AND (&)\n",
    "combined_condition = condition1 & (condition2 | condition3) & (condition4 | condition5) & (condition6 | condition7)\n",
    "# Filter rows based on the combined condition and print the specified columns\n",
    "filtered_rowsOutliers = df.loc[combined_condition, columns_to_print]\n",
    "\n",
    "# Print the filtered rows\n",
    "print(filtered_rowsOutliers)\n"
   ]
  },
  {
   "cell_type": "code",
   "execution_count": 13,
   "id": "a1078c4a-23db-44a6-84db-b4f90934f09c",
   "metadata": {},
   "outputs": [
    {
     "name": "stdout",
     "output_type": "stream",
     "text": [
      "9\n",
      "[1908725,1991077,2101713,2437991,2634995,2737695,2753941,2774941,2883019]\n"
     ]
    }
   ],
   "source": [
    "print(filtered_rowsOutliers.shape[0])\n",
    "outlierArr = filtered_rowsOutliers['caseid_new'].values\n",
    "print(np.array2string(outlierArr, separator=','))"
   ]
  },
  {
   "cell_type": "code",
   "execution_count": 7,
   "id": "8ab2fb55-fe6e-45bf-945c-7b51573b2e2b",
   "metadata": {},
   "outputs": [
    {
     "name": "stdout",
     "output_type": "stream",
     "text": [
      "      caseid_new  w3_Weight  w3_Weight_LGB  w3_combo_weight  \\\n",
      "1027     1908725     2.1750            NaN         2.436219   \n",
      "1244     1991077        NaN         1.4987         0.527574   \n",
      "1415     2101713     0.9913         0.7212         0.348959   \n",
      "2046     2437991     0.7224            NaN         0.809161   \n",
      "2391     2634995     1.4355            NaN         1.607904   \n",
      "2599     2737695     4.1723            NaN         4.673395   \n",
      "2620     2753941     0.7006            NaN         0.784742   \n",
      "2678     2774941        NaN         0.6802         0.239445   \n",
      "3050     2883019     0.5122            NaN         0.573716   \n",
      "\n",
      "      w3_attrition_adj_weight  w2_weight_genpop  w2_weight_LGB  \\\n",
      "1027                 2.737787            1.1976            NaN   \n",
      "1244                 0.455181               NaN         1.0887   \n",
      "1415                 0.737223            0.8002         0.4231   \n",
      "2046                 0.679246            0.5829            NaN   \n",
      "2391                 1.567201            1.8026            NaN   \n",
      "2599                 7.346990            3.2348            NaN   \n",
      "2620                 0.569121            0.6296            NaN   \n",
      "2678                 0.393924               NaN         0.5032   \n",
      "3050                 0.504105            0.5947            NaN   \n",
      "\n",
      "      w2_combo_weight  w2_attrition_adj_weights  w1_weight_combo  ...  \\\n",
      "1027         1.359318                  1.427547         1.113117  ...   \n",
      "1244         0.344210                  0.297869         0.293705  ...   \n",
      "1415         0.252996                  0.376177         0.219767  ...   \n",
      "2046         0.661612                  0.568502         1.070714  ...   \n",
      "2391         2.046014                  2.719014         1.378167  ...   \n",
      "2599         3.671612                  5.255862         1.574466  ...   \n",
      "2620         0.714618                  0.560735         1.034643  ...   \n",
      "2678         0.159095                  0.206213         0.201732  ...   \n",
      "3050         0.675005                  0.580241         0.892167  ...   \n",
      "\n",
      "      p20_pppa1634  p20_pppa1902  p20_pppa1903  p20_pppa1904  p20_ppp22001  \\\n",
      "1027           2.0           0.0           1.0           0.0           0.0   \n",
      "1244           2.0           1.0           0.0           0.0           0.0   \n",
      "1415           2.0           0.0           1.0           0.0           0.0   \n",
      "2046           2.0           0.0           1.0           0.0           0.0   \n",
      "2391           1.0           1.0           0.0           0.0           0.0   \n",
      "2599           NaN           NaN           NaN           NaN           NaN   \n",
      "2620           1.0           1.0           0.0           0.0           0.0   \n",
      "2678           NaN           NaN           NaN           NaN           NaN   \n",
      "3050           NaN           NaN           NaN           NaN           NaN   \n",
      "\n",
      "      p20_pppa1905  p20_pppa1648  p20_ppp20072  p20_ppp20071  p20_ppp2date2020  \n",
      "1027           0.0           2.0           2.0           2.0        20210605.0  \n",
      "1244           0.0           2.0           4.0           2.0        20210330.0  \n",
      "1415           0.0          10.0           5.0           NaN        20201116.0  \n",
      "2046           0.0          13.0           6.0           NaN        20210418.0  \n",
      "2391           0.0           2.0           6.0           2.0        20210518.0  \n",
      "2599           NaN           NaN           NaN           NaN               NaN  \n",
      "2620           0.0           1.0           5.0           2.0        20210607.0  \n",
      "2678           NaN           NaN           NaN           NaN               NaN  \n",
      "3050           NaN           NaN           NaN           NaN               NaN  \n",
      "\n",
      "[9 rows x 725 columns]\n"
     ]
    }
   ],
   "source": [
    "# here we can see that only 9 out of 1096 couples that stayed together through the 3 waves were on opposite sides of the spectrum\n",
    "# let's export to look at the indiv attributes\n",
    "\n",
    "\n",
    "condition1 = df['caseid_new'].isin(outlierArr)\n",
    "filtered_rowsOutliersAllCols = df.loc[condition1]\n",
    "print(filtered_rowsOutliersAllCols)\n",
    "filtered_rowsOutliersAllCols.to_csv('outliers_politicalparty_1_1.csv', index=False)"
   ]
  },
  {
   "cell_type": "code",
   "execution_count": null,
   "id": "e1129e0d-69a0-4c41-9b1a-5c1e2fef67b5",
   "metadata": {},
   "outputs": [],
   "source": []
  }
 ],
 "metadata": {
  "kernelspec": {
   "display_name": "Python 3 (ipykernel)",
   "language": "python",
   "name": "python3"
  },
  "language_info": {
   "codemirror_mode": {
    "name": "ipython",
    "version": 3
   },
   "file_extension": ".py",
   "mimetype": "text/x-python",
   "name": "python",
   "nbconvert_exporter": "python",
   "pygments_lexer": "ipython3",
   "version": "3.11.5"
  }
 },
 "nbformat": 4,
 "nbformat_minor": 5
}
