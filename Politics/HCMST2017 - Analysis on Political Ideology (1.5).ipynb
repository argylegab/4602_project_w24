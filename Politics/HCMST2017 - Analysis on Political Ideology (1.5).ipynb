{
 "cells": [
  {
   "cell_type": "code",
   "execution_count": 9,
   "id": "54e0983f-0903-4b3a-887d-cb6662001f37",
   "metadata": {},
   "outputs": [
    {
     "name": "stdout",
     "output_type": "stream",
     "text": [
      "      caseid_new  w1_section  w2_section  w3_section  w1_partyid7  w1_q12\n",
      "0          53001           1         2.0         3.0          6.0     1.0\n",
      "1          71609           1         1.0         1.0          3.0     3.0\n",
      "2         106983           1         1.0         1.0          7.0     7.0\n",
      "3         121759           1         1.0         NaN          2.0     4.0\n",
      "4         158083           2         6.0         6.0          3.0     2.0\n",
      "...          ...         ...         ...         ...          ...     ...\n",
      "3505     2967957           1         NaN         NaN          7.0     6.0\n",
      "3506     2968357           1         NaN         NaN          3.0     4.0\n",
      "3507     2968971           1         NaN         NaN          5.0     4.0\n",
      "3508     2969933           1         NaN         NaN          6.0     7.0\n",
      "3509     2972135           1         NaN         NaN          3.0     5.0\n",
      "\n",
      "[3510 rows x 6 columns]\n"
     ]
    }
   ],
   "source": [
    "import pandas as pd\n",
    "import numpy as np\n",
    "import matplotlib.pyplot as plt\n",
    "%matplotlib inline\n",
    "\n",
    "# Specify the file path\n",
    "file_path = 'hcmst2017to2022.csv'\n",
    "\n",
    "# Read the CSV file into a pandas DataFrame\n",
    "df = pd.read_csv(file_path)\n",
    "\n",
    "# Change string numeric values to actual numeric values\n",
    "for column in df.columns:\n",
    "    df[column] = pd.to_numeric(df[column], errors='coerce')\n",
    "\n",
    "# Display the DataFrame\n",
    "#print(df.columns)\n",
    "\n",
    "# Specify the column names you want to print\n",
    "columns_to_print = ['caseid_new', 'w1_section', 'w2_section', 'w3_section', 'w1_partyid7', 'w1_q12']\n",
    "\n",
    "# Print the specified columns\n",
    "print(df[columns_to_print])"
   ]
  },
  {
   "cell_type": "code",
   "execution_count": 10,
   "id": "ae5b0cba-334f-474e-8c03-b64dc3276c91",
   "metadata": {},
   "outputs": [
    {
     "name": "stdout",
     "output_type": "stream",
     "text": [
      "[1 2 3]\n",
      "[ 2.  1.  6.  3. nan  5.  4.]\n",
      "[ 3.  1. nan  6.  5.  4.  2.]\n",
      "[ 6.  3.  7.  2.  1.  5. nan  4.]\n",
      "[ 1.  3.  7.  4.  2.  6.  5. nan -1.]\n"
     ]
    }
   ],
   "source": [
    "# looking at possible values for each col\n",
    "print(df['w1_section'].unique())  # possible values for relationship status in wave 1\n",
    "print(df['w2_section'].unique())  # possible values for relationship status in wave 2\n",
    "print(df['w3_section'].unique())  # possible values for relationship status in wave 3\n",
    "print(df['w1_partyid7'].unique()) # possible values for respondent's political party\n",
    "print(df['w1_q12'].unique()) # possible values for partner's political party\n"
   ]
  },
  {
   "cell_type": "code",
   "execution_count": 11,
   "id": "e40e72af-a81d-40a3-8598-63a20f237062",
   "metadata": {},
   "outputs": [
    {
     "name": "stdout",
     "output_type": "stream",
     "text": [
      "      caseid_new  w1_section  w2_section  w3_section  w1_partyid7  w1_q12\n",
      "1          71609           1         1.0         1.0          3.0     3.0\n",
      "2         106983           1         1.0         1.0          7.0     7.0\n",
      "5         164061           1         1.0         1.0          2.0     2.0\n",
      "7         212249           1         1.0         1.0          1.0     1.0\n",
      "8         214227           1         1.0         1.0          3.0     6.0\n",
      "...          ...         ...         ...         ...          ...     ...\n",
      "3438     2958163           1         1.0         1.0          3.0     3.0\n",
      "3448     2959699           1         1.0         1.0          5.0     6.0\n",
      "3459     2961175           1         1.0         1.0          2.0     6.0\n",
      "3460     2961203           1         1.0         1.0          1.0     1.0\n",
      "3486     2964987           1         1.0         1.0          1.0     1.0\n",
      "\n",
      "[1096 rows x 6 columns]\n"
     ]
    }
   ],
   "source": [
    "# lets start by looking at all the couples that have stayed together through wave 1, 2, and 3\n",
    "\n",
    "condition1 = df['w1_section'] == 1 # those who were partenered in 2017\n",
    "condition2 = df['w2_section'] == 1 # who are still married to the same partner in wave 2\n",
    "condition3 = df['w2_section'] == 3 # or still partnered with that same partner but not married (but still together) in wave 2 \n",
    "# (note that we are not looking at those with new partners in w2/w3)\n",
    "condition4 = df['w3_section'] == 1 # who are still married to the same partner in wave 3\n",
    "condition5 = df['w3_section'] == 3 # or still partnered with that same partner but not married (but still together) in wave 2 \n",
    "\n",
    "\n",
    "# Combine conditions using boolean AND (&)\n",
    "combined_condition = condition1 & (condition2 | condition3) & (condition4 | condition5)\n",
    "\n",
    "# Filter rows based on the combined condition and print the specified columns\n",
    "filtered_rows = df.loc[combined_condition, columns_to_print]\n",
    "\n",
    "# Print the filtered rows\n",
    "print(filtered_rows)"
   ]
  },
  {
   "cell_type": "code",
   "execution_count": 12,
   "id": "d08ce579-8be3-404b-9856-4ba1b8d659d6",
   "metadata": {},
   "outputs": [
    {
     "name": "stdout",
     "output_type": "stream",
     "text": [
      "      caseid_new  w1_section  w2_section  w3_section  w1_partyid7  w1_q12\n",
      "1          71609           1         1.0         1.0          3.0     3.0\n",
      "2         106983           1         1.0         1.0          7.0     7.0\n",
      "5         164061           1         1.0         1.0          2.0     2.0\n",
      "7         212249           1         1.0         1.0          1.0     1.0\n",
      "9         218351           1         1.0         1.0          2.0     2.0\n",
      "...          ...         ...         ...         ...          ...     ...\n",
      "3338     2943301           1         3.0         3.0          5.0     5.0\n",
      "3402     2951689           1         1.0         1.0          7.0     7.0\n",
      "3438     2958163           1         1.0         1.0          3.0     3.0\n",
      "3460     2961203           1         1.0         1.0          1.0     1.0\n",
      "3486     2964987           1         1.0         1.0          1.0     1.0\n",
      "\n",
      "[408 rows x 6 columns]\n"
     ]
    }
   ],
   "source": [
    "# let's look at homophily in couples based on sharing the same political ideology or leaning\n",
    "# the following is for those who have the same exact 'score' on the survey's political spectrum\n",
    "\n",
    "condition1 = df['w1_section'] == 1 # those who were partenered in 2017\n",
    "condition2 = df['w2_section'] == 1 # who are still married to the same partner in wave 2\n",
    "condition3 = df['w2_section'] == 3 # or still partnered with that same partner but not married (but still together) in wave 2 \n",
    "# (note that we are not looking at those with new partners in w2/w3)\n",
    "condition4 = df['w3_section'] == 1 # who are still married to the same partner in wave 3\n",
    "condition5 = df['w3_section'] == 3 # or still partnered with that same partner but not married (but still together) in wave 2 \n",
    "condition6 = df['w1_partyid7'] == df['w1_q12'] # same political leaning 'score'\n",
    "\n",
    "# Combine conditions using boolean AND (&)\n",
    "combined_condition = condition1 & (condition2 | condition3) & (condition4 | condition5) & condition6\n",
    "\n",
    "# Filter rows based on the combined condition and print the specified columns\n",
    "filtered_rowsHomophily = df.loc[combined_condition, columns_to_print]\n",
    "\n",
    "# Print the filtered rows\n",
    "print(filtered_rowsHomophily)\n"
   ]
  },
  {
   "cell_type": "code",
   "execution_count": 13,
   "id": "b6a89d5b-2098-447c-95f4-f7df982168db",
   "metadata": {},
   "outputs": [
    {
     "name": "stdout",
     "output_type": "stream",
     "text": [
      "      caseid_new  w1_section  w2_section  w3_section  w1_partyid7  w1_q12\n",
      "8         214227           1         1.0         1.0          3.0     6.0\n",
      "22        582849           1         1.0         1.0          1.0     4.0\n",
      "25        587125           1         1.0         1.0          6.0     3.0\n",
      "64        662355           1         1.0         1.0          7.0     4.0\n",
      "165       844189           1         3.0         3.0          2.0     5.0\n",
      "...          ...         ...         ...         ...          ...     ...\n",
      "3158     2910231           1         1.0         1.0          6.0     3.0\n",
      "3162     2910943           1         1.0         1.0          3.0     6.0\n",
      "3203     2917189           1         1.0         1.0          7.0     4.0\n",
      "3398     2950149           1         3.0         1.0          5.0     2.0\n",
      "3401     2951535           1         3.0         3.0          7.0     4.0\n",
      "\n",
      "[77 rows x 6 columns]\n"
     ]
    }
   ],
   "source": [
    "# from above - 408 (near half) of the 1096 couples that stayed together through the 3 waves scored the exact same\n",
    "\n",
    "# so now let's look at couples who are the furthest away from each other on the political spectrum\n",
    "\n",
    "condition1 = df['w1_section'] == 1 # those who were partenered in 2017\n",
    "condition2 = df['w2_section'] == 1 # who are still married to the same partner in wave 2\n",
    "condition3 = df['w2_section'] == 3 # or still partnered with that same partner but not married (but still together) in wave 2 \n",
    "# (note that we are not looking at those with new partners in w2/w3)\n",
    "condition4 = df['w3_section'] == 1 # who are still married to the same partner in wave 3\n",
    "condition5 = df['w3_section'] == 3 # or still partnered with that same partner but not married (but still together) in wave 2 \n",
    "\n",
    "# filtering for political party affiliation 3 steps away (the \"next\" furthest distance on the spectrum after 4 steps (ie 6-1))\n",
    "condition6 = (df['w1_partyid7'] - df['w1_q12']) == 3\n",
    "# and vice versa\n",
    "condition7 = (df['w1_q12'] - df['w1_partyid7']) == 3\n",
    "\n",
    "# Combine conditions using boolean AND (&)\n",
    "combined_condition = condition1 & (condition2 | condition3) & (condition4 | condition5) & (condition6 | condition7)\n",
    "\n",
    "# Filter rows based on the combined condition and print the specified columns\n",
    "filtered_rowsOutliers = df.loc[combined_condition, columns_to_print]\n",
    "\n",
    "# Print the filtered rows\n",
    "print(filtered_rowsOutliers)\n"
   ]
  },
  {
   "cell_type": "code",
   "execution_count": 14,
   "id": "a1078c4a-23db-44a6-84db-b4f90934f09c",
   "metadata": {},
   "outputs": [
    {
     "name": "stdout",
     "output_type": "stream",
     "text": [
      "77\n",
      "[ 214227  582849  587125  662355  844189  855297  867449  964713  981685\n",
      "  982323  983511 1152229 1170887 1193613 1203831 1236545 1269605 1338065\n",
      " 1374845 1378293 1418329 1439067 1612001 1679339 1682591 1692049 1718309\n",
      " 1734941 1740893 1754559 1761743 1808717 1809325 1835975 1890779 1938115\n",
      " 1961301 1966851 2013981 2017641 2027307 2071877 2086637 2111275 2148015\n",
      " 2166521 2210355 2227047 2232397 2233103 2271349 2289087 2294693 2423007\n",
      " 2440417 2461283 2480385 2555355 2630193 2642425 2649847 2658923 2700049\n",
      " 2751707 2765643 2832811 2838801 2845837 2846681 2854677 2893071 2909343\n",
      " 2910231 2910943 2917189 2950149 2951535]\n",
      "[ 214227, 582849, 587125, 662355, 844189, 855297, 867449, 964713, 981685,\n",
      "  982323, 983511,1152229,1170887,1193613,1203831,1236545,1269605,1338065,\n",
      " 1374845,1378293,1418329,1439067,1612001,1679339,1682591,1692049,1718309,\n",
      " 1734941,1740893,1754559,1761743,1808717,1809325,1835975,1890779,1938115,\n",
      " 1961301,1966851,2013981,2017641,2027307,2071877,2086637,2111275,2148015,\n",
      " 2166521,2210355,2227047,2232397,2233103,2271349,2289087,2294693,2423007,\n",
      " 2440417,2461283,2480385,2555355,2630193,2642425,2649847,2658923,2700049,\n",
      " 2751707,2765643,2832811,2838801,2845837,2846681,2854677,2893071,2909343,\n",
      " 2910231,2910943,2917189,2950149,2951535]\n"
     ]
    }
   ],
   "source": [
    "print(filtered_rowsOutliers.shape[0])\n",
    "outlierArr = filtered_rowsOutliers['caseid_new'].values\n",
    "print(outlierArr)\n",
    "print(np.array2string(outlierArr,separator=','))"
   ]
  },
  {
   "cell_type": "code",
   "execution_count": 7,
   "id": "8ab2fb55-fe6e-45bf-945c-7b51573b2e2b",
   "metadata": {},
   "outputs": [
    {
     "name": "stdout",
     "output_type": "stream",
     "text": [
      "      caseid_new  w3_Weight  w3_Weight_LGB  w3_combo_weight  \\\n",
      "8         214227     0.8591            NaN         0.962278   \n",
      "22        582849     1.1820            NaN         1.323959   \n",
      "25        587125     0.6449            NaN         0.722353   \n",
      "64        662355        NaN         0.8700         0.306258   \n",
      "165       844189     0.6965            NaN         0.780150   \n",
      "...          ...        ...            ...              ...   \n",
      "3158     2910231     0.7536            NaN         0.844108   \n",
      "3162     2910943     0.9197            NaN         1.030156   \n",
      "3203     2917189     0.6086         0.8533         0.214240   \n",
      "3398     2950149     1.0976            NaN         1.229422   \n",
      "3401     2951535        NaN         1.6789         0.591008   \n",
      "\n",
      "      w3_attrition_adj_weight  w2_weight_genpop  w2_weight_LGB  \\\n",
      "8                    0.886445            0.7040            NaN   \n",
      "22                   1.105244            1.1743            NaN   \n",
      "25                   0.502589            0.6336            NaN   \n",
      "64                   0.251186               NaN         0.5443   \n",
      "165                  0.571309            0.6898            NaN   \n",
      "...                       ...               ...            ...   \n",
      "3158                 0.727224            0.7071            NaN   \n",
      "3162                 0.823536            0.9452            NaN   \n",
      "3203                 0.148635            0.6441         1.3844   \n",
      "3398                 1.389254            0.8890            NaN   \n",
      "3401                 1.063845               NaN         0.8340   \n",
      "\n",
      "      w2_combo_weight  w2_attrition_adj_weights  w1_weight_combo  ...  \\\n",
      "8            0.799065                  0.730018         0.975956  ...   \n",
      "22           1.332872                  1.162536         1.072975  ...   \n",
      "25           0.719158                  0.548721         0.886627  ...   \n",
      "64           0.172089                  0.146046         0.221038  ...   \n",
      "165          0.782947                  0.613377         0.780562  ...   \n",
      "...               ...                       ...              ...  ...   \n",
      "3158         0.802583                  0.706698         0.942260  ...   \n",
      "3162         1.072835                  0.921549         1.024127  ...   \n",
      "3203         0.203642                  0.155401         0.565935  ...   \n",
      "3398         1.009046                  1.052810         1.053413  ...   \n",
      "3401         0.263682                  0.382771         0.272168  ...   \n",
      "\n",
      "      p20_pppa1634  p20_pppa1902  p20_pppa1903  p20_pppa1904  p20_ppp22001  \\\n",
      "8              2.0           0.0           1.0           0.0           0.0   \n",
      "22             NaN           NaN           NaN           NaN           NaN   \n",
      "25             2.0           0.0           1.0           0.0           0.0   \n",
      "64             2.0           0.0           1.0           0.0           0.0   \n",
      "165            1.0           1.0           0.0           0.0           0.0   \n",
      "...            ...           ...           ...           ...           ...   \n",
      "3158           2.0           0.0           1.0           0.0           0.0   \n",
      "3162           1.0           1.0           0.0           0.0           0.0   \n",
      "3203           1.0           1.0           0.0           0.0           0.0   \n",
      "3398           1.0           1.0           0.0           0.0           0.0   \n",
      "3401           2.0           0.0           1.0           0.0           0.0   \n",
      "\n",
      "      p20_pppa1905  p20_pppa1648  p20_ppp20072  p20_ppp20071  p20_ppp2date2020  \n",
      "8              0.0           1.0           6.0           2.0        20201121.0  \n",
      "22             NaN           NaN           NaN           NaN               NaN  \n",
      "25             0.0           2.0           6.0           1.0        20210605.0  \n",
      "64             0.0           9.0           5.0           NaN        20201212.0  \n",
      "165            0.0           1.0           NaN           2.0        20210514.0  \n",
      "...            ...           ...           ...           ...               ...  \n",
      "3158           0.0           1.0           4.0           2.0        20210603.0  \n",
      "3162           0.0           2.0           4.0           1.0        20210531.0  \n",
      "3203           0.0           2.0           2.0           2.0        20210511.0  \n",
      "3398           0.0           2.0           3.0           1.0        20210604.0  \n",
      "3401           0.0          13.0           6.0           NaN        20201113.0  \n",
      "\n",
      "[77 rows x 725 columns]\n"
     ]
    }
   ],
   "source": [
    "# here we can see that 77 out of 1096 couples that stayed together through the 3 waves were on 3 steps away on the political spectrum\n",
    "# let's export to look at the indiv attributes\n",
    "\n",
    "\n",
    "condition1 = df['caseid_new'].isin(outlierArr)\n",
    "filtered_rowsOutliersAllCols = df.loc[condition1]\n",
    "print(filtered_rowsOutliersAllCols)\n",
    "filtered_rowsOutliersAllCols.to_csv('outliers_politicalparty_1_5.csv', index=False)"
   ]
  },
  {
   "cell_type": "code",
   "execution_count": 8,
   "id": "ec2f982c-afce-4bd4-9773-7d502c99d92c",
   "metadata": {},
   "outputs": [
    {
     "name": "stdout",
     "output_type": "stream",
     "text": [
      "Average of each column:\n",
      "caseid_new                 2.013981e+06\n",
      "w3_Weight                  7.859000e-01\n",
      "w3_Weight_LGB              6.555000e-01\n",
      "w3_combo_weight            8.433237e-01\n",
      "w3_attrition_adj_weight    6.909198e-01\n",
      "                               ...     \n",
      "p20_pppa1905               0.000000e+00\n",
      "p20_pppa1648               2.000000e+00\n",
      "p20_ppp20072               5.000000e+00\n",
      "p20_ppp20071               2.000000e+00\n",
      "p20_ppp2date2020           2.021053e+07\n",
      "Length: 725, dtype: float64\n"
     ]
    }
   ],
   "source": [
    "column_averagesOutliers = filtered_rowsOutliersAllCols.median()\n",
    "\n",
    "print(\"Average of each column:\")\n",
    "print(column_averagesOutliers)\n",
    "column_averagesOutliers.to_csv('outliersMedianValues_politicalparty.csv', index=False)\n",
    "\n",
    "#column_frequenciesOutliers = filtered_rowsOutliersAllCols.apply(pd.Series.value_counts)\n",
    "#column_frequenciesOutliers.to_csv('outliersValuesFrequencies_politicalparty.csv', index=False)"
   ]
  },
  {
   "cell_type": "code",
   "execution_count": null,
   "id": "e1129e0d-69a0-4c41-9b1a-5c1e2fef67b5",
   "metadata": {},
   "outputs": [],
   "source": []
  }
 ],
 "metadata": {
  "kernelspec": {
   "display_name": "Python 3 (ipykernel)",
   "language": "python",
   "name": "python3"
  },
  "language_info": {
   "codemirror_mode": {
    "name": "ipython",
    "version": 3
   },
   "file_extension": ".py",
   "mimetype": "text/x-python",
   "name": "python",
   "nbconvert_exporter": "python",
   "pygments_lexer": "ipython3",
   "version": "3.11.5"
  }
 },
 "nbformat": 4,
 "nbformat_minor": 5
}
