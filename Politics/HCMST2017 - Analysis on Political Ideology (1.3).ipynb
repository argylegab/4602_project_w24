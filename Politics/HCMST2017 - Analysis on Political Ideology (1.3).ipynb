{
 "cells": [
  {
   "cell_type": "code",
   "execution_count": 2,
   "id": "54e0983f-0903-4b3a-887d-cb6662001f37",
   "metadata": {},
   "outputs": [
    {
     "name": "stdout",
     "output_type": "stream",
     "text": [
      "      caseid_new  w1_section  w2_section  w3_section  w1_partyid7  w1_q12\n",
      "0          53001           1         2.0         3.0          6.0     1.0\n",
      "1          71609           1         1.0         1.0          3.0     3.0\n",
      "2         106983           1         1.0         1.0          7.0     7.0\n",
      "3         121759           1         1.0         NaN          2.0     4.0\n",
      "4         158083           2         6.0         6.0          3.0     2.0\n",
      "...          ...         ...         ...         ...          ...     ...\n",
      "3505     2967957           1         NaN         NaN          7.0     6.0\n",
      "3506     2968357           1         NaN         NaN          3.0     4.0\n",
      "3507     2968971           1         NaN         NaN          5.0     4.0\n",
      "3508     2969933           1         NaN         NaN          6.0     7.0\n",
      "3509     2972135           1         NaN         NaN          3.0     5.0\n",
      "\n",
      "[3510 rows x 6 columns]\n"
     ]
    }
   ],
   "source": [
    "import pandas as pd\n",
    "import numpy as np\n",
    "import matplotlib.pyplot as plt\n",
    "%matplotlib inline\n",
    "\n",
    "# Specify the file path\n",
    "file_path = 'hcmst2017to2022.csv'\n",
    "\n",
    "# Read the CSV file into a pandas DataFrame\n",
    "df = pd.read_csv(file_path)\n",
    "\n",
    "# Change string numeric values to actual numeric values\n",
    "for column in df.columns:\n",
    "    df[column] = pd.to_numeric(df[column], errors='coerce')\n",
    "\n",
    "# Display the DataFrame\n",
    "#print(df.columns)\n",
    "\n",
    "# Specify the column names you want to print\n",
    "columns_to_print = ['caseid_new', 'w1_section', 'w2_section', 'w3_section', 'w1_partyid7', 'w1_q12']\n",
    "\n",
    "# Print the specified columns\n",
    "print(df[columns_to_print])"
   ]
  },
  {
   "cell_type": "code",
   "execution_count": 3,
   "id": "ae5b0cba-334f-474e-8c03-b64dc3276c91",
   "metadata": {},
   "outputs": [
    {
     "name": "stdout",
     "output_type": "stream",
     "text": [
      "[1 2 3]\n",
      "[ 2.  1.  6.  3. nan  5.  4.]\n",
      "[ 3.  1. nan  6.  5.  4.  2.]\n",
      "[ 6.  3.  7.  2.  1.  5. nan  4.]\n",
      "[ 1.  3.  7.  4.  2.  6.  5. nan -1.]\n"
     ]
    }
   ],
   "source": [
    "# looking at possible values for each col\n",
    "print(df['w1_section'].unique())  # possible values for relationship status in wave 1\n",
    "print(df['w2_section'].unique())  # possible values for relationship status in wave 2\n",
    "print(df['w3_section'].unique())  # possible values for relationship status in wave 3\n",
    "print(df['w1_partyid7'].unique()) # possible values for respondent's political party\n",
    "print(df['w1_q12'].unique()) # possible values for partner's political party\n"
   ]
  },
  {
   "cell_type": "code",
   "execution_count": 4,
   "id": "e40e72af-a81d-40a3-8598-63a20f237062",
   "metadata": {},
   "outputs": [
    {
     "name": "stdout",
     "output_type": "stream",
     "text": [
      "      caseid_new  w1_section  w2_section  w3_section  w1_partyid7  w1_q12\n",
      "1          71609           1         1.0         1.0          3.0     3.0\n",
      "2         106983           1         1.0         1.0          7.0     7.0\n",
      "5         164061           1         1.0         1.0          2.0     2.0\n",
      "7         212249           1         1.0         1.0          1.0     1.0\n",
      "8         214227           1         1.0         1.0          3.0     6.0\n",
      "...          ...         ...         ...         ...          ...     ...\n",
      "3438     2958163           1         1.0         1.0          3.0     3.0\n",
      "3448     2959699           1         1.0         1.0          5.0     6.0\n",
      "3459     2961175           1         1.0         1.0          2.0     6.0\n",
      "3460     2961203           1         1.0         1.0          1.0     1.0\n",
      "3486     2964987           1         1.0         1.0          1.0     1.0\n",
      "\n",
      "[1096 rows x 6 columns]\n"
     ]
    }
   ],
   "source": [
    "# lets start by looking at all the couples that have stayed together through wave 1, 2, and 3\n",
    "\n",
    "condition1 = df['w1_section'] == 1 # those who were partenered in 2017\n",
    "condition2 = df['w2_section'] == 1 # who are still married to the same partner in wave 2\n",
    "condition3 = df['w2_section'] == 3 # or still partnered with that same partner but not married (but still together) in wave 2 \n",
    "# (note that we are not looking at those with new partners in w2/w3)\n",
    "condition4 = df['w3_section'] == 1 # who are still married to the same partner in wave 3\n",
    "condition5 = df['w3_section'] == 3 # or still partnered with that same partner but not married (but still together) in wave 2 \n",
    "\n",
    "\n",
    "# Combine conditions using boolean AND (&)\n",
    "combined_condition = condition1 & (condition2 | condition3) & (condition4 | condition5)\n",
    "\n",
    "# Filter rows based on the combined condition and print the specified columns\n",
    "filtered_rows = df.loc[combined_condition, columns_to_print]\n",
    "\n",
    "# Print the filtered rows\n",
    "print(filtered_rows)"
   ]
  },
  {
   "cell_type": "code",
   "execution_count": 5,
   "id": "d08ce579-8be3-404b-9856-4ba1b8d659d6",
   "metadata": {},
   "outputs": [
    {
     "name": "stdout",
     "output_type": "stream",
     "text": [
      "      caseid_new  w1_section  w2_section  w3_section  w1_partyid7  w1_q12\n",
      "1          71609           1         1.0         1.0          3.0     3.0\n",
      "2         106983           1         1.0         1.0          7.0     7.0\n",
      "5         164061           1         1.0         1.0          2.0     2.0\n",
      "7         212249           1         1.0         1.0          1.0     1.0\n",
      "9         218351           1         1.0         1.0          2.0     2.0\n",
      "...          ...         ...         ...         ...          ...     ...\n",
      "3338     2943301           1         3.0         3.0          5.0     5.0\n",
      "3402     2951689           1         1.0         1.0          7.0     7.0\n",
      "3438     2958163           1         1.0         1.0          3.0     3.0\n",
      "3460     2961203           1         1.0         1.0          1.0     1.0\n",
      "3486     2964987           1         1.0         1.0          1.0     1.0\n",
      "\n",
      "[408 rows x 6 columns]\n"
     ]
    }
   ],
   "source": [
    "# let's look at homophily in couples based on sharing the same political ideology or leaning\n",
    "# the following is for those who have the same exact 'score' on the survey's political spectrum\n",
    "\n",
    "condition1 = df['w1_section'] == 1 # those who were partenered in 2017\n",
    "condition2 = df['w2_section'] == 1 # who are still married to the same partner in wave 2\n",
    "condition3 = df['w2_section'] == 3 # or still partnered with that same partner but not married (but still together) in wave 2 \n",
    "# (note that we are not looking at those with new partners in w2/w3)\n",
    "condition4 = df['w3_section'] == 1 # who are still married to the same partner in wave 3\n",
    "condition5 = df['w3_section'] == 3 # or still partnered with that same partner but not married (but still together) in wave 2 \n",
    "condition6 = df['w1_partyid7'] == df['w1_q12'] # same political leaning 'score'\n",
    "\n",
    "# Combine conditions using boolean AND (&)\n",
    "combined_condition = condition1 & (condition2 | condition3) & (condition4 | condition5) & condition6\n",
    "\n",
    "# Filter rows based on the combined condition and print the specified columns\n",
    "filtered_rowsHomophily = df.loc[combined_condition, columns_to_print]\n",
    "\n",
    "# Print the filtered rows\n",
    "print(filtered_rowsHomophily)\n"
   ]
  },
  {
   "cell_type": "code",
   "execution_count": 36,
   "id": "b6a89d5b-2098-447c-95f4-f7df982168db",
   "metadata": {},
   "outputs": [
    {
     "name": "stdout",
     "output_type": "stream",
     "text": [
      "      caseid_new  w1_section  w2_section  w3_section  w1_partyid7  w1_q12\n",
      "1027     1908725           1         1.0         1.0          7.0     1.0\n",
      "1244     1991077           1         1.0         1.0          7.0     1.0\n",
      "1415     2101713           1         3.0         3.0          7.0     1.0\n",
      "2046     2437991           1         1.0         1.0          7.0     1.0\n",
      "2391     2634995           1         1.0         1.0          1.0     7.0\n",
      "2599     2737695           1         3.0         3.0          7.0     1.0\n",
      "2620     2753941           1         1.0         1.0          7.0     1.0\n",
      "2678     2774941           1         1.0         1.0          7.0     1.0\n",
      "3050     2883019           1         3.0         3.0          1.0     7.0\n"
     ]
    }
   ],
   "source": [
    "# from above - 408 (near half) of the 1096 couples that stayed together through the 3 waves scored the exact same\n",
    "\n",
    "# so now let's look at couples who are the furthest away from each other on the political spectrum\n",
    "\n",
    "condition1 = df['w1_section'] == 1 # those who were partenered in 2017\n",
    "condition2 = df['w2_section'] == 1 # who are still married to the same partner in wave 2\n",
    "condition3 = df['w2_section'] == 3 # or still partnered with that same partner but not married (but still together) in wave 2 \n",
    "# (note that we are not looking at those with new partners in w2/w3)\n",
    "condition4 = df['w3_section'] == 1 # who are still married to the same partner in wave 3\n",
    "condition5 = df['w3_section'] == 3 # or still partnered with that same partner but not married (but still together) in wave 2 \n",
    "\n",
    "# filtering for political party affiliation 4 steps away (the \"next\" furthest distance on the spectrum after 6 steps (ie 7-1))\n",
    "condition6 = (df['w1_partyid7'] - df['w1_q12']) == 6\n",
    "# and vice versa\n",
    "condition7 = (df['w1_q12'] - df['w1_partyid7']) == 6\n",
    "\n",
    "# Combine conditions using boolean AND (&)\n",
    "combined_condition = condition1 & (condition2 | condition3) & (condition4 | condition5) & (condition6 | condition7)\n",
    "\n",
    "# Filter rows based on the combined condition and print the specified columns\n",
    "filtered_rowsOutliers = df.loc[combined_condition, columns_to_print]\n",
    "\n",
    "# Print the filtered rows\n",
    "print(filtered_rowsOutliers)\n"
   ]
  },
  {
   "cell_type": "code",
   "execution_count": 37,
   "id": "a1078c4a-23db-44a6-84db-b4f90934f09c",
   "metadata": {},
   "outputs": [
    {
     "name": "stdout",
     "output_type": "stream",
     "text": [
      "9\n",
      "[1908725,1991077,2101713,2437991,2634995,2737695,2753941,2774941,2883019]\n"
     ]
    }
   ],
   "source": [
    "print(filtered_rowsOutliers.shape[0])\n",
    "outlierArr = filtered_rowsOutliers['caseid_new'].values\n",
    "print(np.array2string(outlierArr, separator=','))"
   ]
  },
  {
   "cell_type": "code",
   "execution_count": null,
   "id": "8ab2fb55-fe6e-45bf-945c-7b51573b2e2b",
   "metadata": {},
   "outputs": [],
   "source": [
    "# here we can see that 22 of 1096 couples that stayed together through the 3 waves were 5 steps away from each other on the political spectrum (PS)\n",
    "\n",
    "\n",
    "condition1 = df['caseid_new'].isin(outlierArr)\n",
    "filtered_rowsOutliersAllCols = df.loc[condition1]\n",
    "print(filtered_rowsOutliersAllCols)\n",
    "filtered_rowsOutliersAllCols.to_csv('outliers_politicalparty_1_3.csv', index=False)"
   ]
  },
  {
   "cell_type": "code",
   "execution_count": null,
   "id": "ec2f982c-afce-4bd4-9773-7d502c99d92c",
   "metadata": {},
   "outputs": [],
   "source": [
    "column_averagesOutliers = filtered_rowsOutliersAllCols.median()\n",
    "\n",
    "print(\"Average of each column:\")\n",
    "print(column_averagesOutliers)\n",
    "column_averagesOutliers.to_csv('outliersMedianValues_politicalparty.csv', index=False)\n",
    "\n",
    "#column_frequenciesOutliers = filtered_rowsOutliersAllCols.apply(pd.Series.value_counts)\n",
    "#column_frequenciesOutliers.to_csv('outliersValuesFrequencies_politicalparty.csv', index=False)"
   ]
  },
  {
   "cell_type": "code",
   "execution_count": null,
   "id": "e1129e0d-69a0-4c41-9b1a-5c1e2fef67b5",
   "metadata": {},
   "outputs": [],
   "source": []
  }
 ],
 "metadata": {
  "kernelspec": {
   "display_name": "Python 3 (ipykernel)",
   "language": "python",
   "name": "python3"
  },
  "language_info": {
   "codemirror_mode": {
    "name": "ipython",
    "version": 3
   },
   "file_extension": ".py",
   "mimetype": "text/x-python",
   "name": "python",
   "nbconvert_exporter": "python",
   "pygments_lexer": "ipython3",
   "version": "3.11.5"
  }
 },
 "nbformat": 4,
 "nbformat_minor": 5
}
