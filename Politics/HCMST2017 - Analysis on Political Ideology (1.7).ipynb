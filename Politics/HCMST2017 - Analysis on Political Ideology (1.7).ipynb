{
 "cells": [
  {
   "cell_type": "code",
   "execution_count": 9,
   "id": "54e0983f-0903-4b3a-887d-cb6662001f37",
   "metadata": {},
   "outputs": [
    {
     "name": "stdout",
     "output_type": "stream",
     "text": [
      "      caseid_new  w1_section  w2_section  w3_section  w1_partyid7  w1_q12\n",
      "0          53001           1         2.0         3.0          6.0     1.0\n",
      "1          71609           1         1.0         1.0          3.0     3.0\n",
      "2         106983           1         1.0         1.0          7.0     7.0\n",
      "3         121759           1         1.0         NaN          2.0     4.0\n",
      "4         158083           2         6.0         6.0          3.0     2.0\n",
      "...          ...         ...         ...         ...          ...     ...\n",
      "3505     2967957           1         NaN         NaN          7.0     6.0\n",
      "3506     2968357           1         NaN         NaN          3.0     4.0\n",
      "3507     2968971           1         NaN         NaN          5.0     4.0\n",
      "3508     2969933           1         NaN         NaN          6.0     7.0\n",
      "3509     2972135           1         NaN         NaN          3.0     5.0\n",
      "\n",
      "[3510 rows x 6 columns]\n"
     ]
    }
   ],
   "source": [
    "import pandas as pd\n",
    "import numpy as np\n",
    "import matplotlib.pyplot as plt\n",
    "%matplotlib inline\n",
    "\n",
    "# Specify the file path\n",
    "file_path = 'hcmst2017to2022.csv'\n",
    "\n",
    "# Read the CSV file into a pandas DataFrame\n",
    "df = pd.read_csv(file_path)\n",
    "\n",
    "# Change string numeric values to actual numeric values\n",
    "for column in df.columns:\n",
    "    df[column] = pd.to_numeric(df[column], errors='coerce')\n",
    "\n",
    "# Display the DataFrame\n",
    "#print(df.columns)\n",
    "\n",
    "# Specify the column names you want to print\n",
    "columns_to_print = ['caseid_new', 'w1_section', 'w2_section', 'w3_section', 'w1_partyid7', 'w1_q12']\n",
    "\n",
    "# Print the specified columns\n",
    "print(df[columns_to_print])"
   ]
  },
  {
   "cell_type": "code",
   "execution_count": 10,
   "id": "ae5b0cba-334f-474e-8c03-b64dc3276c91",
   "metadata": {},
   "outputs": [
    {
     "name": "stdout",
     "output_type": "stream",
     "text": [
      "[1 2 3]\n",
      "[ 2.  1.  6.  3. nan  5.  4.]\n",
      "[ 3.  1. nan  6.  5.  4.  2.]\n",
      "[ 6.  3.  7.  2.  1.  5. nan  4.]\n",
      "[ 1.  3.  7.  4.  2.  6.  5. nan -1.]\n"
     ]
    }
   ],
   "source": [
    "# looking at possible values for each col\n",
    "print(df['w1_section'].unique())  # possible values for relationship status in wave 1\n",
    "print(df['w2_section'].unique())  # possible values for relationship status in wave 2\n",
    "print(df['w3_section'].unique())  # possible values for relationship status in wave 3\n",
    "print(df['w1_partyid7'].unique()) # possible values for respondent's political party\n",
    "print(df['w1_q12'].unique()) # possible values for partner's political party\n"
   ]
  },
  {
   "cell_type": "code",
   "execution_count": 11,
   "id": "e40e72af-a81d-40a3-8598-63a20f237062",
   "metadata": {},
   "outputs": [
    {
     "name": "stdout",
     "output_type": "stream",
     "text": [
      "      caseid_new  w1_section  w2_section  w3_section  w1_partyid7  w1_q12\n",
      "1          71609           1         1.0         1.0          3.0     3.0\n",
      "2         106983           1         1.0         1.0          7.0     7.0\n",
      "5         164061           1         1.0         1.0          2.0     2.0\n",
      "7         212249           1         1.0         1.0          1.0     1.0\n",
      "8         214227           1         1.0         1.0          3.0     6.0\n",
      "...          ...         ...         ...         ...          ...     ...\n",
      "3438     2958163           1         1.0         1.0          3.0     3.0\n",
      "3448     2959699           1         1.0         1.0          5.0     6.0\n",
      "3459     2961175           1         1.0         1.0          2.0     6.0\n",
      "3460     2961203           1         1.0         1.0          1.0     1.0\n",
      "3486     2964987           1         1.0         1.0          1.0     1.0\n",
      "\n",
      "[1096 rows x 6 columns]\n"
     ]
    }
   ],
   "source": [
    "# lets start by looking at all the couples that have stayed together through wave 1, 2, and 3\n",
    "\n",
    "condition1 = df['w1_section'] == 1 # those who were partenered in 2017\n",
    "condition2 = df['w2_section'] == 1 # who are still married to the same partner in wave 2\n",
    "condition3 = df['w2_section'] == 3 # or still partnered with that same partner but not married (but still together) in wave 2 \n",
    "# (note that we are not looking at those with new partners in w2/w3)\n",
    "condition4 = df['w3_section'] == 1 # who are still married to the same partner in wave 3\n",
    "condition5 = df['w3_section'] == 3 # or still partnered with that same partner but not married (but still together) in wave 2 \n",
    "\n",
    "\n",
    "# Combine conditions using boolean AND (&)\n",
    "combined_condition = condition1 & (condition2 | condition3) & (condition4 | condition5)\n",
    "\n",
    "# Filter rows based on the combined condition and print the specified columns\n",
    "filtered_rows = df.loc[combined_condition, columns_to_print]\n",
    "\n",
    "# Print the filtered rows\n",
    "print(filtered_rows)"
   ]
  },
  {
   "cell_type": "code",
   "execution_count": 12,
   "id": "d08ce579-8be3-404b-9856-4ba1b8d659d6",
   "metadata": {},
   "outputs": [
    {
     "name": "stdout",
     "output_type": "stream",
     "text": [
      "      caseid_new  w1_section  w2_section  w3_section  w1_partyid7  w1_q12\n",
      "1          71609           1         1.0         1.0          3.0     3.0\n",
      "2         106983           1         1.0         1.0          7.0     7.0\n",
      "5         164061           1         1.0         1.0          2.0     2.0\n",
      "7         212249           1         1.0         1.0          1.0     1.0\n",
      "9         218351           1         1.0         1.0          2.0     2.0\n",
      "...          ...         ...         ...         ...          ...     ...\n",
      "3338     2943301           1         3.0         3.0          5.0     5.0\n",
      "3402     2951689           1         1.0         1.0          7.0     7.0\n",
      "3438     2958163           1         1.0         1.0          3.0     3.0\n",
      "3460     2961203           1         1.0         1.0          1.0     1.0\n",
      "3486     2964987           1         1.0         1.0          1.0     1.0\n",
      "\n",
      "[408 rows x 6 columns]\n"
     ]
    }
   ],
   "source": [
    "# let's look at homophily in couples based on sharing the same political ideology or leaning\n",
    "# the following is for those who have the same exact 'score' on the survey's political spectrum\n",
    "\n",
    "condition1 = df['w1_section'] == 1 # those who were partenered in 2017\n",
    "condition2 = df['w2_section'] == 1 # who are still married to the same partner in wave 2\n",
    "condition3 = df['w2_section'] == 3 # or still partnered with that same partner but not married (but still together) in wave 2 \n",
    "# (note that we are not looking at those with new partners in w2/w3)\n",
    "condition4 = df['w3_section'] == 1 # who are still married to the same partner in wave 3\n",
    "condition5 = df['w3_section'] == 3 # or still partnered with that same partner but not married (but still together) in wave 2 \n",
    "condition6 = df['w1_partyid7'] == df['w1_q12'] # same political leaning 'score'\n",
    "\n",
    "# Combine conditions using boolean AND (&)\n",
    "combined_condition = condition1 & (condition2 | condition3) & (condition4 | condition5) & condition6\n",
    "\n",
    "# Filter rows based on the combined condition and print the specified columns\n",
    "filtered_rowsHomophily = df.loc[combined_condition, columns_to_print]\n",
    "\n",
    "# Print the filtered rows\n",
    "print(filtered_rowsHomophily)\n"
   ]
  },
  {
   "cell_type": "code",
   "execution_count": 15,
   "id": "b6a89d5b-2098-447c-95f4-f7df982168db",
   "metadata": {},
   "outputs": [
    {
     "name": "stdout",
     "output_type": "stream",
     "text": [
      "      caseid_new  w1_section  w2_section  w3_section  w1_partyid7  w1_q12\n",
      "20        516823           1         1.0         1.0          2.0     1.0\n",
      "42        632253           1         1.0         1.0          5.0     4.0\n",
      "44        637531           1         1.0         1.0          6.0     5.0\n",
      "50        646157           1         1.0         1.0          3.0     4.0\n",
      "53        650237           1         1.0         1.0          3.0     2.0\n",
      "...          ...         ...         ...         ...          ...     ...\n",
      "3344     2943697           1         3.0         3.0          3.0     4.0\n",
      "3358     2945353           1         1.0         1.0          7.0     6.0\n",
      "3362     2946347           1         1.0         1.0          6.0     5.0\n",
      "3387     2948891           1         1.0         1.0          6.0     7.0\n",
      "3448     2959699           1         1.0         1.0          5.0     6.0\n",
      "\n",
      "[323 rows x 6 columns]\n"
     ]
    }
   ],
   "source": [
    "# from above - 408 (near half) of the 1096 couples that stayed together through the 3 waves scored the exact same\n",
    "\n",
    "# so now let's look at couples who are the furthest away from each other on the political spectrum\n",
    "\n",
    "condition1 = df['w1_section'] == 1 # those who were partenered in 2017\n",
    "condition2 = df['w2_section'] == 1 # who are still married to the same partner in wave 2\n",
    "condition3 = df['w2_section'] == 3 # or still partnered with that same partner but not married (but still together) in wave 2 \n",
    "# (note that we are not looking at those with new partners in w2/w3)\n",
    "condition4 = df['w3_section'] == 1 # who are still married to the same partner in wave 3\n",
    "condition5 = df['w3_section'] == 3 # or still partnered with that same partner but not married (but still together) in wave 2 \n",
    "\n",
    "# filtering for political party affiliation 1 step away\n",
    "condition6 = (df['w1_partyid7'] - df['w1_q12']) == 1\n",
    "# and vice versa\n",
    "condition7 = (df['w1_q12'] - df['w1_partyid7']) == 1\n",
    "\n",
    "# Combine conditions using boolean AND (&)\n",
    "combined_condition = condition1 & (condition2 | condition3) & (condition4 | condition5) & (condition6 | condition7)\n",
    "\n",
    "# Filter rows based on the combined condition and print the specified columns\n",
    "filtered_rowsOutliers = df.loc[combined_condition, columns_to_print]\n",
    "\n",
    "# Print the filtered rows\n",
    "print(filtered_rowsOutliers)\n"
   ]
  },
  {
   "cell_type": "code",
   "execution_count": 16,
   "id": "a1078c4a-23db-44a6-84db-b4f90934f09c",
   "metadata": {},
   "outputs": [
    {
     "name": "stdout",
     "output_type": "stream",
     "text": [
      "323\n",
      "[ 516823, 632253, 637531, 646157, 650237, 651259, 709075, 727775, 730391,\n",
      "  731249, 783399, 783679, 811175, 814285, 815831, 854869, 859445, 867567,\n",
      "  874193, 892115, 900463, 908663, 948417, 959621, 962359, 981251,1000407,\n",
      " 1001637,1119259,1123417,1129859,1145895,1150579,1168011,1181279,1182387,\n",
      " 1183381,1196757,1224777,1230191,1234663,1239479,1246677,1246869,1250651,\n",
      " 1256141,1262965,1267611,1272909,1282581,1283019,1287847,1300409,1301087,\n",
      " 1344091,1348915,1372419,1374661,1377765,1385783,1394211,1409151,1422915,\n",
      " 1433383,1445757,1465133,1513043,1513047,1519185,1527623,1548291,1550311,\n",
      " 1550999,1551703,1572635,1572839,1587197,1593839,1604541,1607815,1626763,\n",
      " 1630669,1631303,1634959,1638615,1645953,1648699,1677291,1692681,1698683,\n",
      " 1712517,1718337,1730087,1731569,1761763,1763355,1765905,1768233,1780607,\n",
      " 1785549,1788973,1791495,1793997,1807189,1814173,1816407,1825937,1831591,\n",
      " 1834561,1846375,1850929,1851973,1856209,1857323,1858747,1860057,1860737,\n",
      " 1860835,1869479,1873259,1877643,1879743,1900951,1901639,1903389,1912151,\n",
      " 1912339,1912879,1914313,1915405,1919359,1926181,1927049,1927273,1929653,\n",
      " 1938201,1943525,1946509,1956243,1960543,1966321,1969389,1970615,1976539,\n",
      " 1976605,1976731,1977353,1978599,1978889,1988745,2002441,2014573,2014647,\n",
      " 2014807,2015377,2017035,2019003,2020911,2021701,2029467,2037837,2053645,\n",
      " 2071775,2072903,2084743,2086473,2092107,2093615,2102733,2116829,2127023,\n",
      " 2136629,2141677,2142051,2144713,2145315,2153591,2154415,2154761,2158831,\n",
      " 2177139,2207753,2211239,2211773,2211779,2212677,2218005,2226649,2239179,\n",
      " 2247535,2249131,2249677,2255167,2256865,2257097,2264059,2279685,2280829,\n",
      " 2283987,2296169,2299489,2302735,2306549,2309889,2310821,2312343,2336267,\n",
      " 2337841,2338241,2339573,2340595,2347263,2352239,2361493,2405443,2409887,\n",
      " 2417997,2420829,2424537,2425091,2430941,2441833,2442527,2450529,2450675,\n",
      " 2451027,2452097,2456225,2473663,2483557,2485815,2486709,2489613,2493475,\n",
      " 2494345,2504621,2506415,2528583,2537029,2560735,2562183,2565397,2573527,\n",
      " 2582069,2582177,2585983,2587161,2589615,2590055,2590127,2595771,2595819,\n",
      " 2602801,2613965,2614657,2623489,2629427,2629823,2630805,2638587,2654369,\n",
      " 2656113,2658325,2658787,2658993,2686395,2686427,2688009,2695851,2699851,\n",
      " 2702683,2710813,2722059,2729357,2731005,2739675,2746227,2746583,2757001,\n",
      " 2765841,2772065,2772737,2775795,2777453,2782309,2783229,2785857,2786595,\n",
      " 2789327,2793267,2807523,2810979,2814059,2816715,2821129,2822251,2829273,\n",
      " 2829661,2836833,2839127,2839181,2842843,2843515,2849189,2857579,2858443,\n",
      " 2859539,2867911,2868501,2888089,2893229,2899293,2911331,2922615,2924057,\n",
      " 2932727,2942729,2943311,2943697,2945353,2946347,2948891,2959699]\n"
     ]
    }
   ],
   "source": [
    "print(filtered_rowsOutliers.shape[0])\n",
    "outlierArr = filtered_rowsOutliers['caseid_new'].values\n",
    "print(np.array2string(outlierArr, separator=','))"
   ]
  },
  {
   "cell_type": "code",
   "execution_count": 7,
   "id": "8ab2fb55-fe6e-45bf-945c-7b51573b2e2b",
   "metadata": {},
   "outputs": [
    {
     "name": "stdout",
     "output_type": "stream",
     "text": [
      "      caseid_new  w3_Weight  w3_Weight_LGB  w3_combo_weight  \\\n",
      "20        516823     0.6230            NaN         0.697823   \n",
      "42        632253     0.7803            NaN         0.874014   \n",
      "44        637531     2.0142            NaN         2.256106   \n",
      "50        646157     0.6193            NaN         0.693678   \n",
      "53        650237     0.9995            NaN         1.119540   \n",
      "...          ...        ...            ...              ...   \n",
      "3344     2943697     1.2699            NaN         1.422416   \n",
      "3358     2945353     1.8949            NaN         2.122478   \n",
      "3362     2946347     0.7681            NaN         0.860349   \n",
      "3387     2948891     0.4924            NaN         0.551538   \n",
      "3448     2959699     0.7411            NaN         0.830106   \n",
      "\n",
      "      w3_attrition_adj_weight  w2_weight_genpop  w2_weight_LGB  \\\n",
      "20                   0.745254            0.5923            NaN   \n",
      "42                   0.657640            1.0205            NaN   \n",
      "44                   1.977244            1.5599            NaN   \n",
      "50                   0.543967            0.9949            NaN   \n",
      "53                   0.928194            1.0412            NaN   \n",
      "...                       ...               ...            ...   \n",
      "3344                 1.267033            1.4268            NaN   \n",
      "3358                 2.210765            1.4086            NaN   \n",
      "3362                 0.688788            0.6629            NaN   \n",
      "3387                 0.360251            0.5865            NaN   \n",
      "3448                 0.770060            0.6386            NaN   \n",
      "\n",
      "      w2_combo_weight  w2_attrition_adj_weights  w1_weight_combo  ...  \\\n",
      "20           0.672281                  0.674559         0.847276  ...   \n",
      "42           1.158303                  0.919860         1.064834  ...   \n",
      "44           1.770541                  1.641274         1.284540  ...   \n",
      "50           1.129246                  0.939837         0.909016  ...   \n",
      "53           1.181799                  1.031735         1.172143  ...   \n",
      "...               ...                       ...              ...  ...   \n",
      "3344         1.619468                  1.464569         1.262716  ...   \n",
      "3358         1.598810                  1.842447         1.691160  ...   \n",
      "3362         0.752415                  0.631616         1.217712  ...   \n",
      "3387         0.665698                  0.485823         0.783162  ...   \n",
      "3448         0.724833                  0.721246         0.812562  ...   \n",
      "\n",
      "      p20_pppa1634  p20_pppa1902  p20_pppa1903  p20_pppa1904  p20_ppp22001  \\\n",
      "20             2.0           0.0           1.0           0.0           0.0   \n",
      "42             1.0           1.0           0.0           0.0           0.0   \n",
      "44             2.0           0.0           1.0           0.0           0.0   \n",
      "50             2.0           0.0           1.0           0.0           0.0   \n",
      "53             1.0           1.0           0.0           0.0           0.0   \n",
      "...            ...           ...           ...           ...           ...   \n",
      "3344           1.0           1.0           0.0           0.0           0.0   \n",
      "3358           2.0           0.0           1.0           0.0           0.0   \n",
      "3362           2.0           0.0           1.0           0.0           0.0   \n",
      "3387           1.0           1.0           0.0           0.0           0.0   \n",
      "3448           1.0           1.0           0.0           0.0           0.0   \n",
      "\n",
      "      p20_pppa1905  p20_pppa1648  p20_ppp20072  p20_ppp20071  p20_ppp2date2020  \n",
      "20             0.0           2.0           3.0           1.0        20210603.0  \n",
      "42             0.0          13.0           6.0           NaN        20210520.0  \n",
      "44             0.0          13.0           6.0           NaN        20210604.0  \n",
      "50             0.0           2.0           4.0           1.0        20210603.0  \n",
      "53             0.0           2.0           2.0           1.0        20210607.0  \n",
      "...            ...           ...           ...           ...               ...  \n",
      "3344           0.0           2.0           NaN           2.0        20210427.0  \n",
      "3358           0.0           1.0           2.0           2.0        20210607.0  \n",
      "3362           0.0           1.0           6.0           2.0        20210329.0  \n",
      "3387           0.0          13.0           6.0           NaN        20201006.0  \n",
      "3448           0.0           2.0           6.0           1.0        20201124.0  \n",
      "\n",
      "[323 rows x 725 columns]\n"
     ]
    }
   ],
   "source": [
    "# here we can see that 323 out of 1096 couples that stayed together through the 3 waves were on 2 steps away on the political spectrum\n",
    "# let's export to look at the indiv attributes\n",
    "\n",
    "\n",
    "condition1 = df['caseid_new'].isin(outlierArr)\n",
    "filtered_rowsOutliersAllCols = df.loc[condition1]\n",
    "print(filtered_rowsOutliersAllCols)\n",
    "filtered_rowsOutliersAllCols.to_csv('outliers_politicalparty_1_6.csv', index=False)"
   ]
  },
  {
   "cell_type": "code",
   "execution_count": 8,
   "id": "ec2f982c-afce-4bd4-9773-7d502c99d92c",
   "metadata": {},
   "outputs": [
    {
     "name": "stdout",
     "output_type": "stream",
     "text": [
      "Average of each column:\n",
      "caseid_new                 2.053645e+06\n",
      "w3_Weight                  7.821000e-01\n",
      "w3_Weight_LGB              4.163000e-01\n",
      "w3_combo_weight            8.419796e-01\n",
      "w3_attrition_adj_weight    6.892316e-01\n",
      "                               ...     \n",
      "p20_pppa1905               0.000000e+00\n",
      "p20_pppa1648               2.000000e+00\n",
      "p20_ppp20072               5.000000e+00\n",
      "p20_ppp20071               2.000000e+00\n",
      "p20_ppp2date2020           2.021051e+07\n",
      "Length: 725, dtype: float64\n"
     ]
    }
   ],
   "source": [
    "column_averagesOutliers = filtered_rowsOutliersAllCols.median()\n",
    "\n",
    "print(\"Average of each column:\")\n",
    "print(column_averagesOutliers)\n",
    "column_averagesOutliers.to_csv('outliersMedianValues_politicalparty.csv', index=False)\n",
    "\n",
    "#column_frequenciesOutliers = filtered_rowsOutliersAllCols.apply(pd.Series.value_counts)\n",
    "#column_frequenciesOutliers.to_csv('outliersValuesFrequencies_politicalparty.csv', index=False)"
   ]
  },
  {
   "cell_type": "code",
   "execution_count": null,
   "id": "e1129e0d-69a0-4c41-9b1a-5c1e2fef67b5",
   "metadata": {},
   "outputs": [],
   "source": []
  }
 ],
 "metadata": {
  "kernelspec": {
   "display_name": "Python 3 (ipykernel)",
   "language": "python",
   "name": "python3"
  },
  "language_info": {
   "codemirror_mode": {
    "name": "ipython",
    "version": 3
   },
   "file_extension": ".py",
   "mimetype": "text/x-python",
   "name": "python",
   "nbconvert_exporter": "python",
   "pygments_lexer": "ipython3",
   "version": "3.11.5"
  }
 },
 "nbformat": 4,
 "nbformat_minor": 5
}
