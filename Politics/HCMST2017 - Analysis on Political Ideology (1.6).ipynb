{
 "cells": [
  {
   "cell_type": "code",
   "execution_count": 9,
   "id": "54e0983f-0903-4b3a-887d-cb6662001f37",
   "metadata": {},
   "outputs": [
    {
     "name": "stdout",
     "output_type": "stream",
     "text": [
      "      caseid_new  w1_section  w2_section  w3_section  w1_partyid7  w1_q12\n",
      "0          53001           1         2.0         3.0          6.0     1.0\n",
      "1          71609           1         1.0         1.0          3.0     3.0\n",
      "2         106983           1         1.0         1.0          7.0     7.0\n",
      "3         121759           1         1.0         NaN          2.0     4.0\n",
      "4         158083           2         6.0         6.0          3.0     2.0\n",
      "...          ...         ...         ...         ...          ...     ...\n",
      "3505     2967957           1         NaN         NaN          7.0     6.0\n",
      "3506     2968357           1         NaN         NaN          3.0     4.0\n",
      "3507     2968971           1         NaN         NaN          5.0     4.0\n",
      "3508     2969933           1         NaN         NaN          6.0     7.0\n",
      "3509     2972135           1         NaN         NaN          3.0     5.0\n",
      "\n",
      "[3510 rows x 6 columns]\n"
     ]
    }
   ],
   "source": [
    "import pandas as pd\n",
    "import numpy as np\n",
    "import matplotlib.pyplot as plt\n",
    "%matplotlib inline\n",
    "\n",
    "# Specify the file path\n",
    "file_path = 'hcmst2017to2022.csv'\n",
    "\n",
    "# Read the CSV file into a pandas DataFrame\n",
    "df = pd.read_csv(file_path)\n",
    "\n",
    "# Change string numeric values to actual numeric values\n",
    "for column in df.columns:\n",
    "    df[column] = pd.to_numeric(df[column], errors='coerce')\n",
    "\n",
    "# Display the DataFrame\n",
    "#print(df.columns)\n",
    "\n",
    "# Specify the column names you want to print\n",
    "columns_to_print = ['caseid_new', 'w1_section', 'w2_section', 'w3_section', 'w1_partyid7', 'w1_q12']\n",
    "\n",
    "# Print the specified columns\n",
    "print(df[columns_to_print])"
   ]
  },
  {
   "cell_type": "code",
   "execution_count": 10,
   "id": "ae5b0cba-334f-474e-8c03-b64dc3276c91",
   "metadata": {},
   "outputs": [
    {
     "name": "stdout",
     "output_type": "stream",
     "text": [
      "[1 2 3]\n",
      "[ 2.  1.  6.  3. nan  5.  4.]\n",
      "[ 3.  1. nan  6.  5.  4.  2.]\n",
      "[ 6.  3.  7.  2.  1.  5. nan  4.]\n",
      "[ 1.  3.  7.  4.  2.  6.  5. nan -1.]\n"
     ]
    }
   ],
   "source": [
    "# looking at possible values for each col\n",
    "print(df['w1_section'].unique())  # possible values for relationship status in wave 1\n",
    "print(df['w2_section'].unique())  # possible values for relationship status in wave 2\n",
    "print(df['w3_section'].unique())  # possible values for relationship status in wave 3\n",
    "print(df['w1_partyid7'].unique()) # possible values for respondent's political party\n",
    "print(df['w1_q12'].unique()) # possible values for partner's political party\n"
   ]
  },
  {
   "cell_type": "code",
   "execution_count": 11,
   "id": "e40e72af-a81d-40a3-8598-63a20f237062",
   "metadata": {},
   "outputs": [
    {
     "name": "stdout",
     "output_type": "stream",
     "text": [
      "      caseid_new  w1_section  w2_section  w3_section  w1_partyid7  w1_q12\n",
      "1          71609           1         1.0         1.0          3.0     3.0\n",
      "2         106983           1         1.0         1.0          7.0     7.0\n",
      "5         164061           1         1.0         1.0          2.0     2.0\n",
      "7         212249           1         1.0         1.0          1.0     1.0\n",
      "8         214227           1         1.0         1.0          3.0     6.0\n",
      "...          ...         ...         ...         ...          ...     ...\n",
      "3438     2958163           1         1.0         1.0          3.0     3.0\n",
      "3448     2959699           1         1.0         1.0          5.0     6.0\n",
      "3459     2961175           1         1.0         1.0          2.0     6.0\n",
      "3460     2961203           1         1.0         1.0          1.0     1.0\n",
      "3486     2964987           1         1.0         1.0          1.0     1.0\n",
      "\n",
      "[1096 rows x 6 columns]\n"
     ]
    }
   ],
   "source": [
    "# lets start by looking at all the couples that have stayed together through wave 1, 2, and 3\n",
    "\n",
    "condition1 = df['w1_section'] == 1 # those who were partenered in 2017\n",
    "condition2 = df['w2_section'] == 1 # who are still married to the same partner in wave 2\n",
    "condition3 = df['w2_section'] == 3 # or still partnered with that same partner but not married (but still together) in wave 2 \n",
    "# (note that we are not looking at those with new partners in w2/w3)\n",
    "condition4 = df['w3_section'] == 1 # who are still married to the same partner in wave 3\n",
    "condition5 = df['w3_section'] == 3 # or still partnered with that same partner but not married (but still together) in wave 2 \n",
    "\n",
    "\n",
    "# Combine conditions using boolean AND (&)\n",
    "combined_condition = condition1 & (condition2 | condition3) & (condition4 | condition5)\n",
    "\n",
    "# Filter rows based on the combined condition and print the specified columns\n",
    "filtered_rows = df.loc[combined_condition, columns_to_print]\n",
    "\n",
    "# Print the filtered rows\n",
    "print(filtered_rows)"
   ]
  },
  {
   "cell_type": "code",
   "execution_count": 12,
   "id": "d08ce579-8be3-404b-9856-4ba1b8d659d6",
   "metadata": {},
   "outputs": [
    {
     "name": "stdout",
     "output_type": "stream",
     "text": [
      "      caseid_new  w1_section  w2_section  w3_section  w1_partyid7  w1_q12\n",
      "1          71609           1         1.0         1.0          3.0     3.0\n",
      "2         106983           1         1.0         1.0          7.0     7.0\n",
      "5         164061           1         1.0         1.0          2.0     2.0\n",
      "7         212249           1         1.0         1.0          1.0     1.0\n",
      "9         218351           1         1.0         1.0          2.0     2.0\n",
      "...          ...         ...         ...         ...          ...     ...\n",
      "3338     2943301           1         3.0         3.0          5.0     5.0\n",
      "3402     2951689           1         1.0         1.0          7.0     7.0\n",
      "3438     2958163           1         1.0         1.0          3.0     3.0\n",
      "3460     2961203           1         1.0         1.0          1.0     1.0\n",
      "3486     2964987           1         1.0         1.0          1.0     1.0\n",
      "\n",
      "[408 rows x 6 columns]\n"
     ]
    }
   ],
   "source": [
    "# let's look at homophily in couples based on sharing the same political ideology or leaning\n",
    "# the following is for those who have the same exact 'score' on the survey's political spectrum\n",
    "\n",
    "condition1 = df['w1_section'] == 1 # those who were partenered in 2017\n",
    "condition2 = df['w2_section'] == 1 # who are still married to the same partner in wave 2\n",
    "condition3 = df['w2_section'] == 3 # or still partnered with that same partner but not married (but still together) in wave 2 \n",
    "# (note that we are not looking at those with new partners in w2/w3)\n",
    "condition4 = df['w3_section'] == 1 # who are still married to the same partner in wave 3\n",
    "condition5 = df['w3_section'] == 3 # or still partnered with that same partner but not married (but still together) in wave 2 \n",
    "condition6 = df['w1_partyid7'] == df['w1_q12'] # same political leaning 'score'\n",
    "\n",
    "# Combine conditions using boolean AND (&)\n",
    "combined_condition = condition1 & (condition2 | condition3) & (condition4 | condition5) & condition6\n",
    "\n",
    "# Filter rows based on the combined condition and print the specified columns\n",
    "filtered_rowsHomophily = df.loc[combined_condition, columns_to_print]\n",
    "\n",
    "# Print the filtered rows\n",
    "print(filtered_rowsHomophily)\n"
   ]
  },
  {
   "cell_type": "code",
   "execution_count": 13,
   "id": "b6a89d5b-2098-447c-95f4-f7df982168db",
   "metadata": {},
   "outputs": [
    {
     "name": "stdout",
     "output_type": "stream",
     "text": [
      "      caseid_new  w1_section  w2_section  w3_section  w1_partyid7  w1_q12\n",
      "10        220655           1         1.0         1.0          6.0     4.0\n",
      "46        643423           1         1.0         1.0          3.0     5.0\n",
      "49        646023           1         1.0         1.0          3.0     1.0\n",
      "71        698117           1         1.0         1.0          2.0     4.0\n",
      "73        704661           1         1.0         1.0          6.0     4.0\n",
      "...          ...         ...         ...         ...          ...     ...\n",
      "3044     2882059           1         1.0         1.0          3.0     1.0\n",
      "3045     2882207           1         1.0         1.0          1.0     3.0\n",
      "3111     2897303           1         1.0         1.0          3.0     5.0\n",
      "3252     2926595           1         1.0         1.0          1.0     3.0\n",
      "3259     2928317           1         1.0         1.0          5.0     3.0\n",
      "\n",
      "[231 rows x 6 columns]\n"
     ]
    }
   ],
   "source": [
    "# from above - 408 (near half) of the 1096 couples that stayed together through the 3 waves scored the exact same\n",
    "\n",
    "# so now let's look at couples who are the furthest away from each other on the political spectrum\n",
    "\n",
    "condition1 = df['w1_section'] == 1 # those who were partenered in 2017\n",
    "condition2 = df['w2_section'] == 1 # who are still married to the same partner in wave 2\n",
    "condition3 = df['w2_section'] == 3 # or still partnered with that same partner but not married (but still together) in wave 2 \n",
    "# (note that we are not looking at those with new partners in w2/w3)\n",
    "condition4 = df['w3_section'] == 1 # who are still married to the same partner in wave 3\n",
    "condition5 = df['w3_section'] == 3 # or still partnered with that same partner but not married (but still together) in wave 2 \n",
    "\n",
    "# filtering for political party affiliation 2 steps away\n",
    "condition6 = (df['w1_partyid7'] - df['w1_q12']) == 2\n",
    "# and vice versa\n",
    "condition7 = (df['w1_q12'] - df['w1_partyid7']) == 2\n",
    "\n",
    "# Combine conditions using boolean AND (&)\n",
    "combined_condition = condition1 & (condition2 | condition3) & (condition4 | condition5) & (condition6 | condition7)\n",
    "\n",
    "# Filter rows based on the combined condition and print the specified columns\n",
    "filtered_rowsOutliers = df.loc[combined_condition, columns_to_print]\n",
    "\n",
    "# Print the filtered rows\n",
    "print(filtered_rowsOutliers)\n"
   ]
  },
  {
   "cell_type": "code",
   "execution_count": 14,
   "id": "a1078c4a-23db-44a6-84db-b4f90934f09c",
   "metadata": {},
   "outputs": [
    {
     "name": "stdout",
     "output_type": "stream",
     "text": [
      "231\n",
      "[ 220655, 643423, 646023, 698117, 704661, 709173, 726183, 729319, 731629,\n",
      "  755761, 769207, 775045, 784141, 792153, 806423, 821909, 822315, 842437,\n",
      "  844865, 876181, 985963,1002587,1049013,1097625,1105539,1116971,1127787,\n",
      " 1130879,1140491,1150713,1179591,1181125,1226941,1243163,1244455,1251293,\n",
      " 1276181,1311313,1333997,1335167,1336987,1348777,1376491,1407429,1423457,\n",
      " 1425571,1435195,1437339,1437691,1439945,1473855,1478863,1552387,1568833,\n",
      " 1570547,1587583,1604059,1631841,1633263,1635641,1656987,1660265,1682355,\n",
      " 1697675,1726295,1738617,1760107,1761371,1767375,1788911,1794231,1795553,\n",
      " 1812501,1828311,1844841,1850681,1852051,1861177,1870439,1874783,1884543,\n",
      " 1898367,1900989,1910803,1913143,1915085,1920851,1920877,1924649,1925505,\n",
      " 1926463,1928207,1940691,1952879,1954581,1974861,1978449,1980005,1984375,\n",
      " 2011465,2014211,2016911,2025287,2025455,2052461,2083123,2084273,2086775,\n",
      " 2090459,2116717,2118341,2125135,2138067,2141839,2146471,2153601,2163859,\n",
      " 2168137,2179295,2206813,2214763,2216625,2227011,2227745,2228681,2235583,\n",
      " 2246951,2247021,2255089,2284105,2295955,2296791,2296879,2301575,2302963,\n",
      " 2305135,2309557,2311713,2314949,2318729,2319615,2328849,2330119,2332637,\n",
      " 2334663,2338101,2352995,2356133,2401785,2402977,2405521,2408297,2409221,\n",
      " 2409689,2412127,2430011,2430731,2458037,2461289,2473823,2478365,2478637,\n",
      " 2483979,2485757,2493771,2504749,2507307,2515925,2519453,2532753,2533723,\n",
      " 2564393,2576171,2588415,2590343,2591515,2626745,2638829,2641849,2643123,\n",
      " 2645161,2645965,2647841,2652193,2678879,2679207,2681949,2696891,2713609,\n",
      " 2714381,2714823,2731849,2733771,2738737,2750953,2754001,2757067,2759363,\n",
      " 2760291,2761561,2761753,2762767,2763861,2770011,2770541,2776643,2779987,\n",
      " 2797135,2801077,2804089,2807337,2808641,2809787,2813935,2839815,2845201,\n",
      " 2846721,2853717,2854889,2854953,2855333,2862779,2866103,2868523,2871939,\n",
      " 2880739,2882059,2882207,2897303,2926595,2928317]\n"
     ]
    }
   ],
   "source": [
    "print(filtered_rowsOutliers.shape[0])\n",
    "outlierArr = filtered_rowsOutliers['caseid_new'].values\n",
    "print(np.array2string(outlierArr, separator=','))"
   ]
  },
  {
   "cell_type": "code",
   "execution_count": 7,
   "id": "8ab2fb55-fe6e-45bf-945c-7b51573b2e2b",
   "metadata": {},
   "outputs": [
    {
     "name": "stdout",
     "output_type": "stream",
     "text": [
      "      caseid_new  w3_Weight  w3_Weight_LGB  w3_combo_weight  \\\n",
      "10        220655     0.4449            NaN         0.498333   \n",
      "46        643423     0.6002            NaN         0.672284   \n",
      "49        646023     1.0451            NaN         1.170617   \n",
      "71        698117     0.7767            NaN         0.869982   \n",
      "73        704661     0.7006            NaN         0.784742   \n",
      "...          ...        ...            ...              ...   \n",
      "3044     2882059     0.5803            NaN         0.649994   \n",
      "3045     2882207     0.9092            NaN         1.018395   \n",
      "3111     2897303     0.9016            NaN         1.009883   \n",
      "3252     2926595     0.5780            NaN         0.647418   \n",
      "3259     2928317     1.0726            NaN         1.201420   \n",
      "\n",
      "      w3_attrition_adj_weight  w2_weight_genpop  w2_weight_LGB  \\\n",
      "10                   0.407055            0.2980            NaN   \n",
      "46                   0.561683            0.6051            NaN   \n",
      "49                   0.949547            0.8305            NaN   \n",
      "71                   0.842561            0.8583            NaN   \n",
      "73                   0.649562            0.8460            NaN   \n",
      "...                       ...               ...            ...   \n",
      "3044                 0.539717            0.4540            NaN   \n",
      "3045                 0.835794            0.9474            NaN   \n",
      "3111                 0.884609            0.8310            NaN   \n",
      "3252                 0.581147            0.4763            NaN   \n",
      "3259                 0.942127            1.1366            NaN   \n",
      "\n",
      "      w2_combo_weight  w2_attrition_adj_weights  w1_weight_combo  ...  \\\n",
      "10           0.338240                  0.303825         0.456147  ...   \n",
      "46           0.686810                  0.588111         1.024466  ...   \n",
      "49           0.942647                  0.797078         1.041540  ...   \n",
      "71           0.974201                  0.933754         1.142630  ...   \n",
      "73           0.960240                  0.827916         0.890810  ...   \n",
      "...               ...                       ...              ...  ...   \n",
      "3044         0.515306                  0.426048         0.859715  ...   \n",
      "3045         1.075332                  0.946665         0.993031  ...   \n",
      "3111         0.943214                  0.832969         0.912182  ...   \n",
      "3252         0.540617                  0.486759         0.742681  ...   \n",
      "3259         1.290081                  1.073695         1.045385  ...   \n",
      "\n",
      "      p20_pppa1634  p20_pppa1902  p20_pppa1903  p20_pppa1904  p20_ppp22001  \\\n",
      "10             1.0           1.0           0.0           0.0           0.0   \n",
      "46             2.0           0.0           1.0           0.0           0.0   \n",
      "49             2.0           0.0           1.0           0.0           0.0   \n",
      "71             2.0           0.0           1.0           0.0           0.0   \n",
      "73             2.0           0.0           1.0           0.0           0.0   \n",
      "...            ...           ...           ...           ...           ...   \n",
      "3044           1.0           1.0           0.0           0.0           0.0   \n",
      "3045           2.0           0.0           1.0           0.0           0.0   \n",
      "3111           1.0           1.0           0.0           0.0           0.0   \n",
      "3252           1.0           1.0           0.0           0.0           0.0   \n",
      "3259           NaN           NaN           NaN           NaN           NaN   \n",
      "\n",
      "      p20_pppa1905  p20_pppa1648  p20_ppp20072  p20_ppp20071  p20_ppp2date2020  \n",
      "10             0.0           2.0           6.0           2.0        20210526.0  \n",
      "46             0.0           1.0           2.0           2.0        20201011.0  \n",
      "49             0.0           2.0           6.0           1.0        20210604.0  \n",
      "71             0.0           2.0           NaN           1.0        20210603.0  \n",
      "73             0.0           1.0           5.0           2.0        20210604.0  \n",
      "...            ...           ...           ...           ...               ...  \n",
      "3044           0.0          13.0           6.0           NaN        20201120.0  \n",
      "3045           0.0           1.0           6.0           2.0        20210518.0  \n",
      "3111           0.0           2.0           2.0           1.0        20210510.0  \n",
      "3252           0.0          13.0           6.0           NaN        20210417.0  \n",
      "3259           NaN           NaN           NaN           NaN               NaN  \n",
      "\n",
      "[231 rows x 725 columns]\n"
     ]
    }
   ],
   "source": [
    "# here we can see that 231 out of 1096 couples that stayed together through the 3 waves were on 2 steps away on the political spectrum\n",
    "# let's export to look at the indiv attributes\n",
    "\n",
    "\n",
    "condition1 = df['caseid_new'].isin(outlierArr)\n",
    "filtered_rowsOutliersAllCols = df.loc[condition1]\n",
    "print(filtered_rowsOutliersAllCols)\n",
    "filtered_rowsOutliersAllCols.to_csv('outliers_politicalparty_1_6.csv', index=False)"
   ]
  },
  {
   "cell_type": "code",
   "execution_count": 8,
   "id": "ec2f982c-afce-4bd4-9773-7d502c99d92c",
   "metadata": {},
   "outputs": [
    {
     "name": "stdout",
     "output_type": "stream",
     "text": [
      "Average of each column:\n",
      "caseid_new                 2.153601e+06\n",
      "w3_Weight                  7.804000e-01\n",
      "w3_Weight_LGB              5.370000e-01\n",
      "w3_combo_weight            8.268582e-01\n",
      "w3_attrition_adj_weight    7.014951e-01\n",
      "                               ...     \n",
      "p20_pppa1905               0.000000e+00\n",
      "p20_pppa1648               2.000000e+00\n",
      "p20_ppp20072               5.000000e+00\n",
      "p20_ppp20071               2.000000e+00\n",
      "p20_ppp2date2020           2.021052e+07\n",
      "Length: 725, dtype: float64\n"
     ]
    }
   ],
   "source": [
    "column_averagesOutliers = filtered_rowsOutliersAllCols.median()\n",
    "\n",
    "print(\"Average of each column:\")\n",
    "print(column_averagesOutliers)\n",
    "column_averagesOutliers.to_csv('outliersMedianValues_politicalparty.csv', index=False)\n",
    "\n",
    "#column_frequenciesOutliers = filtered_rowsOutliersAllCols.apply(pd.Series.value_counts)\n",
    "#column_frequenciesOutliers.to_csv('outliersValuesFrequencies_politicalparty.csv', index=False)"
   ]
  },
  {
   "cell_type": "code",
   "execution_count": null,
   "id": "e1129e0d-69a0-4c41-9b1a-5c1e2fef67b5",
   "metadata": {},
   "outputs": [],
   "source": []
  }
 ],
 "metadata": {
  "kernelspec": {
   "display_name": "Python 3 (ipykernel)",
   "language": "python",
   "name": "python3"
  },
  "language_info": {
   "codemirror_mode": {
    "name": "ipython",
    "version": 3
   },
   "file_extension": ".py",
   "mimetype": "text/x-python",
   "name": "python",
   "nbconvert_exporter": "python",
   "pygments_lexer": "ipython3",
   "version": "3.11.5"
  }
 },
 "nbformat": 4,
 "nbformat_minor": 5
}
